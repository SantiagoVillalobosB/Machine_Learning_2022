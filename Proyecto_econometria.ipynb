{
  "cells": [
    {
      "cell_type": "markdown",
      "metadata": {
        "id": "view-in-github",
        "colab_type": "text"
      },
      "source": [
        "<a href=\"https://colab.research.google.com/github/SantiagoVillalobosB/Machine_Learning_2022/blob/Proyectos-primer-corte/Proyecto_econometria.ipynb\" target=\"_parent\"><img src=\"https://colab.research.google.com/assets/colab-badge.svg\" alt=\"Open In Colab\"/></a>"
      ]
    },
    {
      "cell_type": "markdown",
      "metadata": {
        "id": "8xvSWsXWc1Wz"
      },
      "source": [
        "Se importaron los paquetes que eran requeridos para poder correr todo el programa\n"
      ]
    },
    {
      "cell_type": "code",
      "execution_count": null,
      "metadata": {
        "colab": {
          "base_uri": "https://localhost:8080/"
        },
        "id": "tmrMRJUmc1W7",
        "outputId": "807fa0a0-9505-40bc-cea2-b4e79b6a2fd5"
      },
      "outputs": [
        {
          "output_type": "stream",
          "name": "stdout",
          "text": [
            "Collecting wooldridge\n",
            "  Downloading wooldridge-0.4.4-py3-none-any.whl (5.1 MB)\n",
            "\u001b[K     |████████████████████████████████| 5.1 MB 4.2 MB/s \n",
            "\u001b[?25hRequirement already satisfied: pandas in /usr/local/lib/python3.7/dist-packages (from wooldridge) (1.3.5)\n",
            "Requirement already satisfied: python-dateutil>=2.7.3 in /usr/local/lib/python3.7/dist-packages (from pandas->wooldridge) (2.8.2)\n",
            "Requirement already satisfied: pytz>=2017.3 in /usr/local/lib/python3.7/dist-packages (from pandas->wooldridge) (2018.9)\n",
            "Requirement already satisfied: numpy>=1.17.3 in /usr/local/lib/python3.7/dist-packages (from pandas->wooldridge) (1.21.5)\n",
            "Requirement already satisfied: six>=1.5 in /usr/local/lib/python3.7/dist-packages (from python-dateutil>=2.7.3->pandas->wooldridge) (1.15.0)\n",
            "Installing collected packages: wooldridge\n",
            "Successfully installed wooldridge-0.4.4\n"
          ]
        }
      ],
      "source": [
        "!pip install wooldridge\n",
        "import wooldridge as wd\n",
        "import pandas as pd\n",
        "import numpy as np\n",
        "import statistics as st\n",
        "import scipy.stats as sst\n",
        "from scipy import stats"
      ]
    },
    {
      "cell_type": "markdown",
      "metadata": {
        "id": "PeGdh_N-c1W9"
      },
      "source": [
        "Sen crea la clase y los atributos para cada una de las funciones para poder iniciar a crear cada una de las funciones, se inicia creando las matrices X e Y para poder realizar las operaciones matriciales para calcular lo requerido para el programa.\n",
        "\n",
        "\n",
        "Después se empiezan a crear las sumatorias, como la sumatoria explicada de los cuadrados, suma total de los cuadrados y y la sumatoria de residuos al cuadrado, debido a que estas se necesitan para calcular el error estandar\n",
        "\n",
        "Por ultimo se calculan los estadisticos "
      ]
    },
    {
      "cell_type": "code",
      "execution_count": null,
      "metadata": {
        "code_folding": [],
        "id": "zF-NEogNc1W-"
      },
      "outputs": [],
      "source": [
        "class econometria:\n",
        "    def __init__(self,Y,X):\n",
        "        self.Y=Y.to_numpy().reshape(len(Y),1)\n",
        "        self.X=np.concatenate((np.ones([len(self.Y),1]),X.to_numpy()),axis = 1)\n",
        "        self.n=self.X.shape[0] \n",
        "        self.k=self.X.shape[1]-1\n",
        "        self.grados=self.n-self.k-1\n",
        "        self.betas=(np.linalg.inv((np.transpose(self.X)@self.X))@np.transpose(self.X)@self.Y)\n",
        "        \n",
        "        self.res=self.Y-(self.X@self.betas)\n",
        "        self.sec=np.sum((self.X@self.betas-np.mean(self.Y))**2)\n",
        "        self.src=np.sum((self.res)**2)\n",
        "        self.stc=np.sum((self.Y-np.mean(self.Y))**2)\n",
        "        self.r2=1-self.src/self.stc\n",
        "\n",
        "        self.mcova=(self.src/self.grados)*(np.linalg.inv(np.transpose(self.X)@self.X))\n",
        "        self.varianza=np.diag(self.mcova)\n",
        "        self.ee=((self.varianza)**(1/2))\n",
        "        \n",
        "\n",
        "        self.t_stat=[betas/errores for (betas,errores) in zip (self.betas.ravel().tolist(), self.ee)]\n",
        "        self.pvalores=[stats.t.sf(np.abs(t_val),self.n-1)*2 for t_val in self.t_stat]\n",
        " \n",
        "\n",
        "        self.valor_t=sst.t.ppf(1-0.05/2, df=self.n -self.k-1)\n",
        "        self.conf_int= [sorted([beta- (error*self.valor_t), beta + (error * self.valor_t)]) for (beta, error) in zip (self.betas.ravel().tolist(), self.ee)]\n",
        "       "
      ]
    },
    {
      "cell_type": "markdown",
      "metadata": {
        "id": "9dK05O3tc1W_"
      },
      "source": [
        "Se importan la base de datos de wooldridge __Crime1__ y se dan las variables que van a ser las variables independientes _pcnv, avgsen, tottime, inc86_ y la variable dependiente _narr86_ "
      ]
    },
    {
      "cell_type": "code",
      "execution_count": null,
      "metadata": {
        "id": "oZo8COlcc1W_"
      },
      "outputs": [],
      "source": [
        "datos=wd.data('crime1')\n",
        "data_1=econometria(datos['narr86'],datos[['pcnv','avgsen','tottime','inc86']])"
      ]
    },
    {
      "cell_type": "markdown",
      "metadata": {
        "id": "FnrlIlBBc1XA"
      },
      "source": [
        "Se crea el DataFrame para poder visualizar los resultados de la primera regresión y poder visualizar los estimadores, el error estandar, el estadistico t y los intervalos de confianza.\n",
        "\n"
      ]
    },
    {
      "cell_type": "code",
      "execution_count": null,
      "metadata": {
        "id": "jr7q555Qc1XA"
      },
      "outputs": [],
      "source": [
        "df=pd.DataFrame({'variables':['Constante','Variable independiente 1 pcnv','Variable independiente 2 avgsen','Variable independiente 3 tottime','Variable independiente 4 inc86'],\n",
        "                 'betas': data_1.betas.ravel().tolist(),\n",
        "                'error_estandar': data_1.ee.ravel().tolist(),\n",
        "                't-student':data_1.t_stat,\n",
        "                'Intervalos de confianza': data_1.conf_int})\n",
        "df=df.set_index('variables')"
      ]
    },
    {
      "cell_type": "code",
      "execution_count": null,
      "metadata": {
        "scrolled": true,
        "colab": {
          "base_uri": "https://localhost:8080/",
          "height": 238
        },
        "id": "kX9bbBXMc1XB",
        "outputId": "4ea9945e-adab-4c26-b789-34c8d89b6bb2"
      },
      "outputs": [
        {
          "output_type": "execute_result",
          "data": {
            "text/html": [
              "\n",
              "  <div id=\"df-9655ac98-b3d6-4657-b8a0-88b0cabfe96b\">\n",
              "    <div class=\"colab-df-container\">\n",
              "      <div>\n",
              "<style scoped>\n",
              "    .dataframe tbody tr th:only-of-type {\n",
              "        vertical-align: middle;\n",
              "    }\n",
              "\n",
              "    .dataframe tbody tr th {\n",
              "        vertical-align: top;\n",
              "    }\n",
              "\n",
              "    .dataframe thead th {\n",
              "        text-align: right;\n",
              "    }\n",
              "</style>\n",
              "<table border=\"1\" class=\"dataframe\">\n",
              "  <thead>\n",
              "    <tr style=\"text-align: right;\">\n",
              "      <th></th>\n",
              "      <th>betas</th>\n",
              "      <th>error_estandar</th>\n",
              "      <th>t-student</th>\n",
              "      <th>Intervalos de confianza</th>\n",
              "    </tr>\n",
              "    <tr>\n",
              "      <th>variables</th>\n",
              "      <th></th>\n",
              "      <th></th>\n",
              "      <th></th>\n",
              "      <th></th>\n",
              "    </tr>\n",
              "  </thead>\n",
              "  <tbody>\n",
              "    <tr>\n",
              "      <th>Constante</th>\n",
              "      <td>0.593875</td>\n",
              "      <td>0.025858</td>\n",
              "      <td>22.967037</td>\n",
              "      <td>[0.5431721558545495, 0.6445776221580033]</td>\n",
              "    </tr>\n",
              "    <tr>\n",
              "      <th>Variable independiente 1 pcnv</th>\n",
              "      <td>-0.162437</td>\n",
              "      <td>0.040816</td>\n",
              "      <td>-3.979729</td>\n",
              "      <td>[-0.24247063528250884, -0.08240328033370249]</td>\n",
              "    </tr>\n",
              "    <tr>\n",
              "      <th>Variable independiente 2 avgsen</th>\n",
              "      <td>-0.006188</td>\n",
              "      <td>0.012381</td>\n",
              "      <td>-0.499811</td>\n",
              "      <td>[-0.030464620847946045, 0.01808856523255329]</td>\n",
              "    </tr>\n",
              "    <tr>\n",
              "      <th>Variable independiente 3 tottime</th>\n",
              "      <td>0.007711</td>\n",
              "      <td>0.009432</td>\n",
              "      <td>0.817496</td>\n",
              "      <td>[-0.01078398728484388, 0.02620523202720996]</td>\n",
              "    </tr>\n",
              "    <tr>\n",
              "      <th>Variable independiente 4 inc86</th>\n",
              "      <td>-0.002436</td>\n",
              "      <td>0.000243</td>\n",
              "      <td>-10.016853</td>\n",
              "      <td>[-0.0029130364901044322, -0.0019592651470449695]</td>\n",
              "    </tr>\n",
              "  </tbody>\n",
              "</table>\n",
              "</div>\n",
              "      <button class=\"colab-df-convert\" onclick=\"convertToInteractive('df-9655ac98-b3d6-4657-b8a0-88b0cabfe96b')\"\n",
              "              title=\"Convert this dataframe to an interactive table.\"\n",
              "              style=\"display:none;\">\n",
              "        \n",
              "  <svg xmlns=\"http://www.w3.org/2000/svg\" height=\"24px\"viewBox=\"0 0 24 24\"\n",
              "       width=\"24px\">\n",
              "    <path d=\"M0 0h24v24H0V0z\" fill=\"none\"/>\n",
              "    <path d=\"M18.56 5.44l.94 2.06.94-2.06 2.06-.94-2.06-.94-.94-2.06-.94 2.06-2.06.94zm-11 1L8.5 8.5l.94-2.06 2.06-.94-2.06-.94L8.5 2.5l-.94 2.06-2.06.94zm10 10l.94 2.06.94-2.06 2.06-.94-2.06-.94-.94-2.06-.94 2.06-2.06.94z\"/><path d=\"M17.41 7.96l-1.37-1.37c-.4-.4-.92-.59-1.43-.59-.52 0-1.04.2-1.43.59L10.3 9.45l-7.72 7.72c-.78.78-.78 2.05 0 2.83L4 21.41c.39.39.9.59 1.41.59.51 0 1.02-.2 1.41-.59l7.78-7.78 2.81-2.81c.8-.78.8-2.07 0-2.86zM5.41 20L4 18.59l7.72-7.72 1.47 1.35L5.41 20z\"/>\n",
              "  </svg>\n",
              "      </button>\n",
              "      \n",
              "  <style>\n",
              "    .colab-df-container {\n",
              "      display:flex;\n",
              "      flex-wrap:wrap;\n",
              "      gap: 12px;\n",
              "    }\n",
              "\n",
              "    .colab-df-convert {\n",
              "      background-color: #E8F0FE;\n",
              "      border: none;\n",
              "      border-radius: 50%;\n",
              "      cursor: pointer;\n",
              "      display: none;\n",
              "      fill: #1967D2;\n",
              "      height: 32px;\n",
              "      padding: 0 0 0 0;\n",
              "      width: 32px;\n",
              "    }\n",
              "\n",
              "    .colab-df-convert:hover {\n",
              "      background-color: #E2EBFA;\n",
              "      box-shadow: 0px 1px 2px rgba(60, 64, 67, 0.3), 0px 1px 3px 1px rgba(60, 64, 67, 0.15);\n",
              "      fill: #174EA6;\n",
              "    }\n",
              "\n",
              "    [theme=dark] .colab-df-convert {\n",
              "      background-color: #3B4455;\n",
              "      fill: #D2E3FC;\n",
              "    }\n",
              "\n",
              "    [theme=dark] .colab-df-convert:hover {\n",
              "      background-color: #434B5C;\n",
              "      box-shadow: 0px 1px 3px 1px rgba(0, 0, 0, 0.15);\n",
              "      filter: drop-shadow(0px 1px 2px rgba(0, 0, 0, 0.3));\n",
              "      fill: #FFFFFF;\n",
              "    }\n",
              "  </style>\n",
              "\n",
              "      <script>\n",
              "        const buttonEl =\n",
              "          document.querySelector('#df-9655ac98-b3d6-4657-b8a0-88b0cabfe96b button.colab-df-convert');\n",
              "        buttonEl.style.display =\n",
              "          google.colab.kernel.accessAllowed ? 'block' : 'none';\n",
              "\n",
              "        async function convertToInteractive(key) {\n",
              "          const element = document.querySelector('#df-9655ac98-b3d6-4657-b8a0-88b0cabfe96b');\n",
              "          const dataTable =\n",
              "            await google.colab.kernel.invokeFunction('convertToInteractive',\n",
              "                                                     [key], {});\n",
              "          if (!dataTable) return;\n",
              "\n",
              "          const docLinkHtml = 'Like what you see? Visit the ' +\n",
              "            '<a target=\"_blank\" href=https://colab.research.google.com/notebooks/data_table.ipynb>data table notebook</a>'\n",
              "            + ' to learn more about interactive tables.';\n",
              "          element.innerHTML = '';\n",
              "          dataTable['output_type'] = 'display_data';\n",
              "          await google.colab.output.renderOutput(dataTable, element);\n",
              "          const docLink = document.createElement('div');\n",
              "          docLink.innerHTML = docLinkHtml;\n",
              "          element.appendChild(docLink);\n",
              "        }\n",
              "      </script>\n",
              "    </div>\n",
              "  </div>\n",
              "  "
            ],
            "text/plain": [
              "                                     betas  error_estandar  t-student  \\\n",
              "variables                                                               \n",
              "Constante                         0.593875        0.025858  22.967037   \n",
              "Variable independiente 1 pcnv    -0.162437        0.040816  -3.979729   \n",
              "Variable independiente 2 avgsen  -0.006188        0.012381  -0.499811   \n",
              "Variable independiente 3 tottime  0.007711        0.009432   0.817496   \n",
              "Variable independiente 4 inc86   -0.002436        0.000243 -10.016853   \n",
              "\n",
              "                                                           Intervalos de confianza  \n",
              "variables                                                                           \n",
              "Constante                                 [0.5431721558545495, 0.6445776221580033]  \n",
              "Variable independiente 1 pcnv         [-0.24247063528250884, -0.08240328033370249]  \n",
              "Variable independiente 2 avgsen       [-0.030464620847946045, 0.01808856523255329]  \n",
              "Variable independiente 3 tottime       [-0.01078398728484388, 0.02620523202720996]  \n",
              "Variable independiente 4 inc86    [-0.0029130364901044322, -0.0019592651470449695]  "
            ]
          },
          "metadata": {},
          "execution_count": 15
        }
      ],
      "source": [
        "df"
      ]
    },
    {
      "cell_type": "markdown",
      "source": [
        "Aca se pueden obserar los resultados de la regresion y se pueden comparar con el programa STATA para verificar y corroborar la vericidad de estos datos.\n",
        "\n",
        "![image.png](data:image/png;base64,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)\n",
        " \n",
        "\n"
      ],
      "metadata": {
        "id": "79Uh_e2Ui9E8"
      }
    },
    {
      "cell_type": "markdown",
      "source": [
        "El analisis de esta regresion ya obtenidos y corroborados es importante conocer a que hace referencia cada variable para poder dar un analisis correcto: \n",
        "\n",
        "\n",
        "1. **narr86:** número de veces arrestado en el año 1986\n",
        "2. **pcnv:** proporción de condenas anteriores\n",
        "3. **avgsen:** longitud promedio de la condena en meses\n",
        "4. **tottime:** tiempo en prisión desde 18 meses\n",
        "5. **inc86:** ingresos legales en 1986 en una cantidad de $100\n",
        "\n",
        "\n",
        "\n",
        "\n"
      ],
      "metadata": {
        "id": "eBbK3GBHjOnu"
      }
    },
    {
      "cell_type": "markdown",
      "source": [
        "La interpretación se hara por cada variable: \n",
        "1. un aumento en la proporción de las condenas se espera que el numero de veces que la persona fue arrestado en el 86 disminuya en -0.16\n",
        "\n",
        "2. Un aumento en la longitud promedio que estuvo condenado la persona hara que se disminuya en -0.006 el numero de veces que la persona es arrestada en 1986\n",
        "\n",
        "3. Un aumento en el tiempo que se estuvo en prision hara un cambio de 0.007 en el numero de veces que fue arrestado en el 86 \n",
        "\n",
        "4. Un incremento en los ingresos del año 1986 disminuye el numero de veces en ser arrestado en -0.0024"
      ],
      "metadata": {
        "id": "bq0saS9WJRyf"
      }
    },
    {
      "cell_type": "code",
      "execution_count": null,
      "metadata": {
        "id": "zOszBuQlc1XD"
      },
      "outputs": [],
      "source": [
        "data_2=econometria(datos['narr86'],datos[['pcnv','avgsen','tottime','inc86','pcnvsq','inc86sq']])"
      ]
    },
    {
      "cell_type": "code",
      "execution_count": null,
      "metadata": {
        "id": "qr6Jebsbc1XD"
      },
      "outputs": [],
      "source": [
        "df2=pd.DataFrame({'variables':['Constante','Variable independiente 1 pcnv','Variable independiente 2 avgsen','Variable independiente 3 tottime','Variable independiente 4 inc86','Variable independiente 5 pcnvsq','Variable independiente 6 inc86sq'],\n",
        "                 'betas': data_2.betas.ravel().tolist(),\n",
        "                'error_estandar': data_2.ee.ravel().tolist(),\n",
        "                't-student':data_2.t_stat,\n",
        "                'Intervalos de confianza': data_2.conf_int})\n",
        "df2=df2.set_index('variables')"
      ]
    },
    {
      "cell_type": "code",
      "execution_count": null,
      "metadata": {
        "id": "QpqMkv11c1XD",
        "outputId": "18949638-fa3c-4b4d-a039-83ec416feed6",
        "colab": {
          "base_uri": "https://localhost:8080/",
          "height": 300
        }
      },
      "outputs": [
        {
          "output_type": "execute_result",
          "data": {
            "text/html": [
              "\n",
              "  <div id=\"df-24f57194-ca92-4d76-b596-05ce1e8350f4\">\n",
              "    <div class=\"colab-df-container\">\n",
              "      <div>\n",
              "<style scoped>\n",
              "    .dataframe tbody tr th:only-of-type {\n",
              "        vertical-align: middle;\n",
              "    }\n",
              "\n",
              "    .dataframe tbody tr th {\n",
              "        vertical-align: top;\n",
              "    }\n",
              "\n",
              "    .dataframe thead th {\n",
              "        text-align: right;\n",
              "    }\n",
              "</style>\n",
              "<table border=\"1\" class=\"dataframe\">\n",
              "  <thead>\n",
              "    <tr style=\"text-align: right;\">\n",
              "      <th></th>\n",
              "      <th>betas</th>\n",
              "      <th>error_estandar</th>\n",
              "      <th>t-student</th>\n",
              "      <th>Intervalos de confianza</th>\n",
              "    </tr>\n",
              "    <tr>\n",
              "      <th>variables</th>\n",
              "      <th></th>\n",
              "      <th></th>\n",
              "      <th></th>\n",
              "      <th></th>\n",
              "    </tr>\n",
              "  </thead>\n",
              "  <tbody>\n",
              "    <tr>\n",
              "      <th>Constante</th>\n",
              "      <td>0.577524</td>\n",
              "      <td>0.029933</td>\n",
              "      <td>19.293661</td>\n",
              "      <td>[0.518829285423186, 0.6362180898215832]</td>\n",
              "    </tr>\n",
              "    <tr>\n",
              "      <th>Variable independiente 1 pcnv</th>\n",
              "      <td>0.622634</td>\n",
              "      <td>0.154837</td>\n",
              "      <td>4.021223</td>\n",
              "      <td>[0.3190241207696006, 0.926244798578885]</td>\n",
              "    </tr>\n",
              "    <tr>\n",
              "      <th>Variable independiente 2 avgsen</th>\n",
              "      <td>-0.006925</td>\n",
              "      <td>0.012280</td>\n",
              "      <td>-0.563954</td>\n",
              "      <td>[-0.031004934183137354, 0.01715399647935378]</td>\n",
              "    </tr>\n",
              "    <tr>\n",
              "      <th>Variable independiente 3 tottime</th>\n",
              "      <td>0.004489</td>\n",
              "      <td>0.009366</td>\n",
              "      <td>0.479257</td>\n",
              "      <td>[-0.01387655450227672, 0.022854038458164166]</td>\n",
              "    </tr>\n",
              "    <tr>\n",
              "      <th>Variable independiente 4 inc86</th>\n",
              "      <td>-0.004081</td>\n",
              "      <td>0.000530</td>\n",
              "      <td>-7.704219</td>\n",
              "      <td>[-0.005119470679867374, -0.0030422042828319286]</td>\n",
              "    </tr>\n",
              "    <tr>\n",
              "      <th>Variable independiente 5 pcnvsq</th>\n",
              "      <td>-0.826588</td>\n",
              "      <td>0.156661</td>\n",
              "      <td>-5.276295</td>\n",
              "      <td>[-1.1337745088908782, -0.5194020725070914]</td>\n",
              "    </tr>\n",
              "    <tr>\n",
              "      <th>Variable independiente 6 inc86sq</th>\n",
              "      <td>0.000009</td>\n",
              "      <td>0.000002</td>\n",
              "      <td>4.017021</td>\n",
              "      <td>[4.384736640909722e-06, 1.2747562717823525e-05]</td>\n",
              "    </tr>\n",
              "  </tbody>\n",
              "</table>\n",
              "</div>\n",
              "      <button class=\"colab-df-convert\" onclick=\"convertToInteractive('df-24f57194-ca92-4d76-b596-05ce1e8350f4')\"\n",
              "              title=\"Convert this dataframe to an interactive table.\"\n",
              "              style=\"display:none;\">\n",
              "        \n",
              "  <svg xmlns=\"http://www.w3.org/2000/svg\" height=\"24px\"viewBox=\"0 0 24 24\"\n",
              "       width=\"24px\">\n",
              "    <path d=\"M0 0h24v24H0V0z\" fill=\"none\"/>\n",
              "    <path d=\"M18.56 5.44l.94 2.06.94-2.06 2.06-.94-2.06-.94-.94-2.06-.94 2.06-2.06.94zm-11 1L8.5 8.5l.94-2.06 2.06-.94-2.06-.94L8.5 2.5l-.94 2.06-2.06.94zm10 10l.94 2.06.94-2.06 2.06-.94-2.06-.94-.94-2.06-.94 2.06-2.06.94z\"/><path d=\"M17.41 7.96l-1.37-1.37c-.4-.4-.92-.59-1.43-.59-.52 0-1.04.2-1.43.59L10.3 9.45l-7.72 7.72c-.78.78-.78 2.05 0 2.83L4 21.41c.39.39.9.59 1.41.59.51 0 1.02-.2 1.41-.59l7.78-7.78 2.81-2.81c.8-.78.8-2.07 0-2.86zM5.41 20L4 18.59l7.72-7.72 1.47 1.35L5.41 20z\"/>\n",
              "  </svg>\n",
              "      </button>\n",
              "      \n",
              "  <style>\n",
              "    .colab-df-container {\n",
              "      display:flex;\n",
              "      flex-wrap:wrap;\n",
              "      gap: 12px;\n",
              "    }\n",
              "\n",
              "    .colab-df-convert {\n",
              "      background-color: #E8F0FE;\n",
              "      border: none;\n",
              "      border-radius: 50%;\n",
              "      cursor: pointer;\n",
              "      display: none;\n",
              "      fill: #1967D2;\n",
              "      height: 32px;\n",
              "      padding: 0 0 0 0;\n",
              "      width: 32px;\n",
              "    }\n",
              "\n",
              "    .colab-df-convert:hover {\n",
              "      background-color: #E2EBFA;\n",
              "      box-shadow: 0px 1px 2px rgba(60, 64, 67, 0.3), 0px 1px 3px 1px rgba(60, 64, 67, 0.15);\n",
              "      fill: #174EA6;\n",
              "    }\n",
              "\n",
              "    [theme=dark] .colab-df-convert {\n",
              "      background-color: #3B4455;\n",
              "      fill: #D2E3FC;\n",
              "    }\n",
              "\n",
              "    [theme=dark] .colab-df-convert:hover {\n",
              "      background-color: #434B5C;\n",
              "      box-shadow: 0px 1px 3px 1px rgba(0, 0, 0, 0.15);\n",
              "      filter: drop-shadow(0px 1px 2px rgba(0, 0, 0, 0.3));\n",
              "      fill: #FFFFFF;\n",
              "    }\n",
              "  </style>\n",
              "\n",
              "      <script>\n",
              "        const buttonEl =\n",
              "          document.querySelector('#df-24f57194-ca92-4d76-b596-05ce1e8350f4 button.colab-df-convert');\n",
              "        buttonEl.style.display =\n",
              "          google.colab.kernel.accessAllowed ? 'block' : 'none';\n",
              "\n",
              "        async function convertToInteractive(key) {\n",
              "          const element = document.querySelector('#df-24f57194-ca92-4d76-b596-05ce1e8350f4');\n",
              "          const dataTable =\n",
              "            await google.colab.kernel.invokeFunction('convertToInteractive',\n",
              "                                                     [key], {});\n",
              "          if (!dataTable) return;\n",
              "\n",
              "          const docLinkHtml = 'Like what you see? Visit the ' +\n",
              "            '<a target=\"_blank\" href=https://colab.research.google.com/notebooks/data_table.ipynb>data table notebook</a>'\n",
              "            + ' to learn more about interactive tables.';\n",
              "          element.innerHTML = '';\n",
              "          dataTable['output_type'] = 'display_data';\n",
              "          await google.colab.output.renderOutput(dataTable, element);\n",
              "          const docLink = document.createElement('div');\n",
              "          docLink.innerHTML = docLinkHtml;\n",
              "          element.appendChild(docLink);\n",
              "        }\n",
              "      </script>\n",
              "    </div>\n",
              "  </div>\n",
              "  "
            ],
            "text/plain": [
              "                                     betas  error_estandar  t-student  \\\n",
              "variables                                                               \n",
              "Constante                         0.577524        0.029933  19.293661   \n",
              "Variable independiente 1 pcnv     0.622634        0.154837   4.021223   \n",
              "Variable independiente 2 avgsen  -0.006925        0.012280  -0.563954   \n",
              "Variable independiente 3 tottime  0.004489        0.009366   0.479257   \n",
              "Variable independiente 4 inc86   -0.004081        0.000530  -7.704219   \n",
              "Variable independiente 5 pcnvsq  -0.826588        0.156661  -5.276295   \n",
              "Variable independiente 6 inc86sq  0.000009        0.000002   4.017021   \n",
              "\n",
              "                                                          Intervalos de confianza  \n",
              "variables                                                                          \n",
              "Constante                                 [0.518829285423186, 0.6362180898215832]  \n",
              "Variable independiente 1 pcnv             [0.3190241207696006, 0.926244798578885]  \n",
              "Variable independiente 2 avgsen      [-0.031004934183137354, 0.01715399647935378]  \n",
              "Variable independiente 3 tottime     [-0.01387655450227672, 0.022854038458164166]  \n",
              "Variable independiente 4 inc86    [-0.005119470679867374, -0.0030422042828319286]  \n",
              "Variable independiente 5 pcnvsq        [-1.1337745088908782, -0.5194020725070914]  \n",
              "Variable independiente 6 inc86sq  [4.384736640909722e-06, 1.2747562717823525e-05]  "
            ]
          },
          "metadata": {},
          "execution_count": 19
        }
      ],
      "source": [
        "df2"
      ]
    },
    {
      "cell_type": "markdown",
      "source": [
        "![image.png](data:image/png;base64,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)"
      ],
      "metadata": {
        "id": "uSEwJcxwPupE"
      }
    },
    {
      "cell_type": "markdown",
      "source": [
        "El analisis de esta regresion con las nuevas variables añadidas se hará de la misma manera que la primera, pero antes se revisara a que hace referencia las nuevas variables: \n",
        "\n",
        "\n",
        "1. **pcnvsq** proporción de condenas anteriores al cuadrado \n",
        "2. **inc86sq** ingresos legales en 1986 en una cantidad de $100 al cuadrado"
      ],
      "metadata": {
        "id": "qM78xestNRNW"
      }
    },
    {
      "cell_type": "code",
      "source": [
        ""
      ],
      "metadata": {
        "id": "gBFZoTspORL1"
      },
      "execution_count": null,
      "outputs": []
    },
    {
      "cell_type": "code",
      "source": [
        ""
      ],
      "metadata": {
        "id": "txeGzfQfWyqX"
      },
      "execution_count": null,
      "outputs": []
    }
  ],
  "metadata": {
    "hide_input": false,
    "kernelspec": {
      "display_name": "Python 3",
      "language": "python",
      "name": "python3"
    },
    "language_info": {
      "codemirror_mode": {
        "name": "ipython",
        "version": 3
      },
      "file_extension": ".py",
      "mimetype": "text/x-python",
      "name": "python",
      "nbconvert_exporter": "python",
      "pygments_lexer": "ipython3",
      "version": "3.8.3"
    },
    "nbTranslate": {
      "displayLangs": [
        "*"
      ],
      "hotkey": "alt-t",
      "langInMainMenu": true,
      "sourceLang": "en",
      "targetLang": "fr",
      "useGoogleTranslate": true
    },
    "toc": {
      "base_numbering": 1,
      "nav_menu": {},
      "number_sections": true,
      "sideBar": true,
      "skip_h1_title": false,
      "title_cell": "Table of Contents",
      "title_sidebar": "Contents",
      "toc_cell": false,
      "toc_position": {},
      "toc_section_display": true,
      "toc_window_display": false
    },
    "varInspector": {
      "cols": {
        "lenName": 16,
        "lenType": 16,
        "lenVar": 40
      },
      "kernels_config": {
        "python": {
          "delete_cmd_postfix": "",
          "delete_cmd_prefix": "del ",
          "library": "var_list.py",
          "varRefreshCmd": "print(var_dic_list())"
        },
        "r": {
          "delete_cmd_postfix": ") ",
          "delete_cmd_prefix": "rm(",
          "library": "var_list.r",
          "varRefreshCmd": "cat(var_dic_list()) "
        }
      },
      "types_to_exclude": [
        "module",
        "function",
        "builtin_function_or_method",
        "instance",
        "_Feature"
      ],
      "window_display": false
    },
    "colab": {
      "name": "Proyecto econometria.ipynb",
      "provenance": [],
      "include_colab_link": true
    }
  },
  "nbformat": 4,
  "nbformat_minor": 0
}