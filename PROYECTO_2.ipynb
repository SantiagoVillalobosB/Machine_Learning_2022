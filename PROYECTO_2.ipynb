{
  "cells": [
    {
      "cell_type": "markdown",
      "metadata": {
        "id": "view-in-github",
        "colab_type": "text"
      },
      "source": [
        "<a href=\"https://colab.research.google.com/github/SantiagoVillalobosB/Machine_Learning_2022/blob/PROYECTOS-1-CORTE/PROYECTO_2.ipynb\" target=\"_parent\"><img src=\"https://colab.research.google.com/assets/colab-badge.svg\" alt=\"Open In Colab\"/></a>"
      ]
    },
    {
      "cell_type": "markdown",
      "metadata": {
        "hide_input": false,
        "lang": "en",
        "id": "jZjPdXP4qaNG"
      },
      "source": [
        "#### Se importa las bases de datos de wooldridge \n",
        "#### Se crea la clase para luego realizar la creación de cada una de las funciones como: \n",
        "    Media \n",
        "    Mediana\n",
        "    Desviacion \n",
        "    Varianza\n",
        "    Coeficientes\n",
        "#### Se realiza un bucle en el cual itere unicamente en las columnas 'wage' y 'educ' e imprima cada resultado de cada funcion ya antes realizada"
      ]
    },
    {
      "cell_type": "code",
      "execution_count": null,
      "metadata": {
        "colab": {
          "base_uri": "https://localhost:8080/"
        },
        "id": "TsYUE5OHqaNS",
        "outputId": "04e822ab-6fca-4c7d-f05e-c9d387c909d7"
      },
      "outputs": [
        {
          "output_type": "stream",
          "name": "stdout",
          "text": [
            "Requirement already satisfied: wooldridge in /usr/local/lib/python3.7/dist-packages (0.4.4)\n",
            "Requirement already satisfied: pandas in /usr/local/lib/python3.7/dist-packages (from wooldridge) (1.3.5)\n",
            "Requirement already satisfied: numpy>=1.17.3 in /usr/local/lib/python3.7/dist-packages (from pandas->wooldridge) (1.21.5)\n",
            "Requirement already satisfied: pytz>=2017.3 in /usr/local/lib/python3.7/dist-packages (from pandas->wooldridge) (2018.9)\n",
            "Requirement already satisfied: python-dateutil>=2.7.3 in /usr/local/lib/python3.7/dist-packages (from pandas->wooldridge) (2.8.2)\n",
            "Requirement already satisfied: six>=1.5 in /usr/local/lib/python3.7/dist-packages (from python-dateutil>=2.7.3->pandas->wooldridge) (1.15.0)\n"
          ]
        }
      ],
      "source": [
        "!pip install wooldridge\n",
        "import wooldridge as wd #se importa base\n",
        "import statistics as st\n",
        "import scipy.stats as ss\n"
      ]
    },
    {
      "cell_type": "code",
      "execution_count": null,
      "metadata": {
        "id": "U-RT1adbqaNW"
      },
      "outputs": [],
      "source": [
        "class estadistica:\n",
        "    def __init__(self,lista):\n",
        "        self.lista=lista \n",
        "        return None\n",
        "    #se crea para calcular la media\n",
        "    def calculadora_media(self):\n",
        "        return sum(self.lista)/len(self.lista)\n",
        "\n",
        "    #se crea la desviacon \n",
        "    def calculadora_desviacion (self):\n",
        "        media=estadistica.calculadora_media(self)\n",
        "        return (sum([(i -media)**2 for i in self.lista])/(len(self.lista-1)))**(1/2)\n",
        "\n",
        "\n",
        "    #se crea la varianza\n",
        "    def calculadora_varianza(self):\n",
        "        return estadistica.calculadora_desviacion(self)**2\n",
        "\n",
        "    #se crea los coeficientes\n",
        "    def calculadora_coeficientes(self):\n",
        "        return ((estadistica.calculadora_desviacion(self))/(estadistica.calculadora_media(self)))\n",
        "    \n",
        "    #se crea la mediana\n",
        "    def calculadora_mediana(self):\n",
        "        sorted(self.lista)[len(self.lista)//2] \n",
        "        if len(self.lista)%2!=0:\n",
        "            return sorted(self.lista)[len(self.lista)//2] \n",
        "        else:\n",
        "            return (sorted(self.lista)[len(self.lista)//2]+sorted(self.lista)[len(self.lista)//2-1])/2"
      ]
    },
    {
      "cell_type": "code",
      "execution_count": null,
      "metadata": {
        "colab": {
          "base_uri": "https://localhost:8080/"
        },
        "id": "RxtnTVfyqaNY",
        "outputId": "873879e7-7a0e-468d-f578-0c2e816d2176"
      },
      "outputs": [
        {
          "output_type": "stream",
          "name": "stdout",
          "text": [
            "wage\n",
            "la media es: 5.896102674787035\n",
            "la mediana es: 4.650000095367432\n",
            "la desviacion estandar es: 3.6895738135753655\n",
            "la varianza es: 13.612954925821066\n",
            "los coeficientes de variacion son: 0.6257648513063981\n",
            "educ\n",
            "la media es: 12.562737642585551\n",
            "la mediana es: 12.0\n",
            "la desviacion estandar es: 2.766388999158773\n",
            "la varianza es: 7.652908094666678\n",
            "los coeficientes de variacion son: 0.220205903988728\n"
          ]
        }
      ],
      "source": [
        "datos=wd.data('wage1')\n",
        "for i in ['wage', 'educ']:\n",
        "    data=estadistica(datos[i])\n",
        "    print (i)\n",
        "    print(f'la media es: {data.calculadora_media()}')\n",
        "    print(f'la mediana es: {data.calculadora_mediana()}')\n",
        "    print(f'la desviacion estandar es: {data.calculadora_desviacion()}')\n",
        "    print(f'la varianza es: {data.calculadora_varianza()}')\n",
        "    print(f'los coeficientes de variacion son: {data.calculadora_coeficientes()}')"
      ]
    },
    {
      "cell_type": "code",
      "source": [
        "assert data.calculadora_media()==st.mean(datos['educ']), 'no funciona' \n",
        "#assert data.calculadora_desviacion()==st.stdev(datos['educ']), 'no funciona' no corre por decimales\n",
        "#assert data.calculadora_varianza()==st.variance(datos['educ']), 'no funciona' no corre por decimales\n",
        "#assert data.calculadora_coeficientes()==ss.variation(datos['educ']), 'no funciona' no corre por decimales\n",
        "assert data.calculadora_mediana()==st.median(datos['educ']), 'no funciona' "
      ],
      "metadata": {
        "id": "TU6PtjWxW2Bx"
      },
      "execution_count": null,
      "outputs": []
    },
    {
      "cell_type": "markdown",
      "source": [
        "Para hacer el analisis correspondiente sobre los datos obtenidos son:\n",
        "\n",
        "# ***wage***\n",
        "\n",
        "Hace referencia al salario promedio que tienen las personas por hora\n",
        "\n",
        "**Media:** El salario promedio por hora de una persona es aproximadamente de 5.89 dolares la hora, *(se utiliza la medida de dolares debido a que la mayoria de bases de datos de wooldridge son de Estados Unidos)*\n",
        "\n",
        "**Mediana:** La mediana es de 4.65, es decir que la mitad de la poblacion utilizada como muestra en esta base de datos tiene un salario promedio por hora por encima de 4.65 dolares, y la otra mitad de la muestra tiene un salario promedio por hora inferior a 4.65 dolares\n",
        "\n",
        "**Desviación estandar:** La desviación estandar nos hace referencia a cuanto estan dispersos los datos, entre más cercano se encuentre a cero este valor menos dispersos se encuentran los datos, es por esta razón que para este dato, la desviación estandar de los salarios es de 3.68 dolares, es un número realmente cercano a cero, entonces quiere decir que los datos están más agrupados hacia la media y no existe tanta dsipersión en los datos.\n",
        "\n",
        "**Varianza:** La varianza es un estadistico similar a la desviación que busca medir la dispersión de los datos, en este caso para los salarios hay una varianza de 13.61\n",
        "\n",
        "**Coeficientes de variación:** Como los dos estadisticos anteriores, buscan estimar o conocer la dispersión respecto a la media entre los datos, para el caso del salario el los coeficientes es de un 62%\n",
        "\n",
        "#***Educ***\n",
        "\n",
        "Esta variable hace referencia a los años de educación de las personas objeto de estudio de esta base de datos.\n",
        "\n",
        "**Media:** Los años promedio de educación de una persona es de 12.5 años, es decir que las personas estudiadas tienen doce años y medio como promedio de eduación, se puede decir que aproximadamente la poblacion objetivo tiene minimo el bachillerato completo. \n",
        "\n",
        "**Mediana:** La mediana es de 12, es decir que la mitad de la poblacion utilizada como muestra en esta base de datos tiene mas de doce años de educación y la otra mitad de la muestra tiene menos de doce años de escolaridad.\n",
        "\n",
        "**Desviación estandar:** La desviación estandar para el caso de la educación es de 2.76 años de escolaridad, es un dato muy cercano a cero, y esto da la tranquilidad de que de que no hay tanta dispersion en los datos.\n",
        "\n",
        "**Varianza:** La varianza para el caso de la educación es de 7.66, es decir que hay una dispersion baja en el caso de la varianza.\n",
        "\n",
        "**Coeficientes de variación:** Para la variable de educación tienen un coeficiente de variacion del 22%, es decir, que hay una dispersión de los datos con respecto de la media del 22%. "
      ],
      "metadata": {
        "id": "iNgWQCumngsM"
      }
    },
    {
      "cell_type": "code",
      "source": [
        ""
      ],
      "metadata": {
        "id": "OG4NwDwsqhUG"
      },
      "execution_count": null,
      "outputs": []
    }
  ],
  "metadata": {
    "hide_input": false,
    "kernelspec": {
      "display_name": "Python 3",
      "language": "python",
      "name": "python3"
    },
    "language_info": {
      "codemirror_mode": {
        "name": "ipython",
        "version": 3
      },
      "file_extension": ".py",
      "mimetype": "text/x-python",
      "name": "python",
      "nbconvert_exporter": "python",
      "pygments_lexer": "ipython3",
      "version": "3.8.3"
    },
    "nbTranslate": {
      "displayLangs": [
        "*"
      ],
      "hotkey": "alt-t",
      "langInMainMenu": true,
      "sourceLang": "en",
      "targetLang": "fr",
      "useGoogleTranslate": true
    },
    "toc": {
      "base_numbering": 1,
      "nav_menu": {},
      "number_sections": true,
      "sideBar": true,
      "skip_h1_title": false,
      "title_cell": "Table of Contents",
      "title_sidebar": "Contents",
      "toc_cell": false,
      "toc_position": {},
      "toc_section_display": true,
      "toc_window_display": false
    },
    "varInspector": {
      "cols": {
        "lenName": 16,
        "lenType": 16,
        "lenVar": 40
      },
      "kernels_config": {
        "python": {
          "delete_cmd_postfix": "",
          "delete_cmd_prefix": "del ",
          "library": "var_list.py",
          "varRefreshCmd": "print(var_dic_list())"
        },
        "r": {
          "delete_cmd_postfix": ") ",
          "delete_cmd_prefix": "rm(",
          "library": "var_list.r",
          "varRefreshCmd": "cat(var_dic_list()) "
        }
      },
      "types_to_exclude": [
        "module",
        "function",
        "builtin_function_or_method",
        "instance",
        "_Feature"
      ],
      "window_display": false
    },
    "colab": {
      "name": "PROYECTO 2.ipynb",
      "provenance": [],
      "collapsed_sections": [],
      "include_colab_link": true
    }
  },
  "nbformat": 4,
  "nbformat_minor": 0
}