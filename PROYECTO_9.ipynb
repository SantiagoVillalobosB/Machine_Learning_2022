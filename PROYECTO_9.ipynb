{
  "nbformat": 4,
  "nbformat_minor": 0,
  "metadata": {
    "colab": {
      "name": "PROYECTO 9",
      "provenance": [],
      "authorship_tag": "ABX9TyPtHBsFx9Ss6G67XlBOqGez",
      "include_colab_link": true
    },
    "kernelspec": {
      "name": "python3",
      "display_name": "Python 3"
    },
    "language_info": {
      "name": "python"
    }
  },
  "cells": [
    {
      "cell_type": "markdown",
      "metadata": {
        "id": "view-in-github",
        "colab_type": "text"
      },
      "source": [
        "<a href=\"https://colab.research.google.com/github/SantiagoVillalobosB/Machine_Learning_2022/blob/Main/PROYECTO_9.ipynb\" target=\"_parent\"><img src=\"https://colab.research.google.com/assets/colab-badge.svg\" alt=\"Open In Colab\"/></a>"
      ]
    },
    {
      "cell_type": "markdown",
      "source": [
        "##**Importación de librerias**"
      ],
      "metadata": {
        "id": "dB52aSMJ2nAN"
      }
    },
    {
      "cell_type": "code",
      "execution_count": 2,
      "metadata": {
        "id": "g4aYH6w42aY_"
      },
      "outputs": [],
      "source": [
        "import pandas as pd \n",
        "import numpy as np \n",
        "import seaborn as sns \n",
        "import matplotlib.pyplot as plt \n",
        "from sklearn.linear_model import LinearRegression, LogisticRegression \n",
        "from sklearn.svm import SVC \n",
        "from sklearn.datasets import make_blobs\n",
        "from sklearn.preprocessing import StandardScaler\n",
        "from sklearn import svm\n",
        "from scipy.spatial.distance import mahalanobis\n",
        "from scipy.stats import chi2\n",
        "from sklearn.preprocessing import LabelEncoder, StandardScaler\n",
        "from sklearn.decomposition import PCA\n",
        "from sklearn.model_selection import train_test_split\n",
        "import warnings\n",
        "from sklearn.cluster import KMeans\n",
        "from sklearn.metrics import pairwise_distances_argmin_min\n",
        "from sklearn import tree\n",
        "from sklearn.metrics import accuracy_score \n",
        "from sklearn.model_selection import cross_val_score\n",
        "from IPython.display import Image as PImage \n",
        "from sklearn.preprocessing import StandardScaler\n",
        "from sklearn import svm\n",
        "warnings.filterwarnings(\"ignore\")"
      ]
    },
    {
      "cell_type": "code",
      "source": [
        "df = pd.read_csv('https://raw.githubusercontent.com/labeconometria/proyectos/main/economicas.csv')"
      ],
      "metadata": {
        "id": "DGZaPP6626Ag"
      },
      "execution_count": 3,
      "outputs": []
    },
    {
      "cell_type": "code",
      "source": [
        "df.info()"
      ],
      "metadata": {
        "colab": {
          "base_uri": "https://localhost:8080/"
        },
        "id": "9yrAuJg328OP",
        "outputId": "d3158bef-79c3-4c8c-a7f2-46f210b17cf4"
      },
      "execution_count": 4,
      "outputs": [
        {
          "output_type": "stream",
          "name": "stdout",
          "text": [
            "<class 'pandas.core.frame.DataFrame'>\n",
            "RangeIndex: 3855 entries, 0 to 3854\n",
            "Data columns (total 97 columns):\n",
            " #   Column                          Non-Null Count  Dtype  \n",
            "---  ------                          --------------  -----  \n",
            " 0   ESTU_CONSECUTIVO                3855 non-null   object \n",
            " 1   RESULT_CODIGOPRUEBA             3855 non-null   int64  \n",
            " 2   RESULT_NOMBREPRUEBA             3855 non-null   object \n",
            " 3   RESULT_PUNTAJE                  3855 non-null   int64  \n",
            " 4   RESULT_DESEMPENO                3855 non-null   int64  \n",
            " 5   ESTU_AGREGADO                   3855 non-null   object \n",
            " 6   ESTU_TIPODOCUMENTO              3855 non-null   object \n",
            " 7   ESTU_NACIONALIDAD               3855 non-null   object \n",
            " 8   ESTU_GENERO                     3855 non-null   object \n",
            " 9   ESTU_FECHANACIMIENTO            3855 non-null   object \n",
            " 10  ESTU_EXTERIOR                   3855 non-null   object \n",
            " 11  PERIODO                         3855 non-null   int64  \n",
            " 12  ESTU_ESTUDIANTE                 3855 non-null   object \n",
            " 13  ESTU_PAIS_RESIDE                3855 non-null   object \n",
            " 14  ESTU_DEPTO_RESIDE               3855 non-null   object \n",
            " 15  ESTU_COD_RESIDE_DEPTO           3855 non-null   int64  \n",
            " 16  ESTU_MCPIO_RESIDE               3855 non-null   object \n",
            " 17  ESTU_COD_RESIDE_MCPIO           3855 non-null   int64  \n",
            " 18  ESTU_AREARESIDE                 3852 non-null   object \n",
            " 19  ESTU_COLE_TERMINO               2768 non-null   object \n",
            " 20  ESTU_CODDANE_COLE_TERMINO       2768 non-null   float64\n",
            " 21  ESTU_COD_COLE_MCPIO_TERMINO     2768 non-null   float64\n",
            " 22  ESTU_TITULOOBTENIDOBACHILLER    3850 non-null   object \n",
            " 23  ESTU_VALORMATRICULAUNIVERSIDAD  3850 non-null   object \n",
            " 24  ESTU_PAGOMATRICULABECA          3850 non-null   object \n",
            " 25  ESTU_PAGOMATRICULACREDITO       3850 non-null   object \n",
            " 26  ESTU_PAGOMATRICULAPADRES        3850 non-null   object \n",
            " 27  ESTU_PAGOMATRICULAPROPIO        3850 non-null   object \n",
            " 28  ESTU_COMOCAPACITOEXAMENSB11     3852 non-null   object \n",
            " 29  ESTU_TIPODOCUMENTOSB11          3821 non-null   object \n",
            " 30  ESTU_SEMESTRECURSA              3850 non-null   object \n",
            " 31  FAMI_EDUCACIONPADRE             3760 non-null   object \n",
            " 32  FAMI_EDUCACIONMADRE             3755 non-null   object \n",
            " 33  FAMI_TRABAJOLABORPADRE          3451 non-null   object \n",
            " 34  FAMI_TRABAJOLABORMADRE          3611 non-null   object \n",
            " 35  FAMI_ESTRATOVIVIENDA            3721 non-null   object \n",
            " 36  ESTU_OTROCOLE_TERMINO           704 non-null    object \n",
            " 37  FAMI_TIENEINTERNET              3723 non-null   object \n",
            " 38  FAMI_TIENECOMPUTADOR            3483 non-null   object \n",
            " 39  FAMI_TIENELAVADORA              3444 non-null   object \n",
            " 40  FAMI_TIENEHORNOMICROOGAS        3423 non-null   object \n",
            " 41  FAMI_TIENESERVICIOTV            3739 non-null   object \n",
            " 42  FAMI_TIENEAUTOMOVIL             3414 non-null   object \n",
            " 43  FAMI_TIENEMOTOCICLETA           3423 non-null   object \n",
            " 44  FAMI_TIENECONSOLAVIDEOJUEGOS    3430 non-null   object \n",
            " 45  FAMI_CUANTOSCOMPARTEBAÑO        3730 non-null   object \n",
            " 46  ESTU_PRESENTACIONCASA           3855 non-null   object \n",
            " 47  ESTU_PAISDOCUMENTOS11           3850 non-null   object \n",
            " 48  ESTU_HORASSEMANATRABAJA         3723 non-null   object \n",
            " 49  INST_COD_INSTITUCION            3855 non-null   int64  \n",
            " 50  INST_NOMBRE_INSTITUCION         3855 non-null   object \n",
            " 51  ESTU_PRGM_ACADEMICO             3855 non-null   object \n",
            " 52  ESTU_SNIES_PRGMACADEMICO        3855 non-null   int64  \n",
            " 53  GRUPOREFERENCIA                 3855 non-null   object \n",
            " 54  ESTU_PRGM_CODMUNICIPIO          3855 non-null   int64  \n",
            " 55  ESTU_PRGM_MUNICIPIO             3855 non-null   object \n",
            " 56  ESTU_PRGM_DEPARTAMENTO          3855 non-null   object \n",
            " 57  ESTU_NIVEL_PRGM_ACADEMICO       3855 non-null   object \n",
            " 58  ESTU_METODO_PRGM                3855 non-null   object \n",
            " 59  ESTU_NUCLEO_PREGRADO            3855 non-null   object \n",
            " 60  ESTU_INST_CODMUNICIPIO          3855 non-null   int64  \n",
            " 61  ESTU_INST_MUNICIPIO             3855 non-null   object \n",
            " 62  ESTU_INST_DEPARTAMENTO          3855 non-null   object \n",
            " 63  INST_CARACTER_ACADEMICO         3855 non-null   object \n",
            " 64  INST_ORIGEN                     3855 non-null   object \n",
            " 65  ESTU_PRIVADO_LIBERTAD           3855 non-null   object \n",
            " 66  ESTU_COD_MCPIO_PRESENTACION     3855 non-null   int64  \n",
            " 67  ESTU_MCPIO_PRESENTACION         3855 non-null   object \n",
            " 68  ESTU_DEPTO_PRESENTACION         3855 non-null   object \n",
            " 69  ESTU_COD_DEPTO_PRESENTACION     3855 non-null   int64  \n",
            " 70  MOD_RAZONA_CUANTITAT_PUNT       3855 non-null   int64  \n",
            " 71  MOD_RAZONA_CUANTITAT_DESEM      3855 non-null   int64  \n",
            " 72  MOD_RAZONA_CUANTITATIVO_PNAL    3855 non-null   int64  \n",
            " 73  MOD_RAZONA_CUANTITATIVO_PNBC    3855 non-null   int64  \n",
            " 74  MOD_LECTURA_CRITICA_PUNT        3855 non-null   int64  \n",
            " 75  MOD_LECTURA_CRITICA_DESEM       3855 non-null   int64  \n",
            " 76  MOD_LECTURA_CRITICA_PNAL        3855 non-null   int64  \n",
            " 77  MOD_LECTURA_CRITICA_PNBC        3855 non-null   int64  \n",
            " 78  MOD_COMPETEN_CIUDADA_PUNT       3855 non-null   int64  \n",
            " 79  MOD_COMPETEN_CIUDADA_DESEM      3855 non-null   int64  \n",
            " 80  MOD_COMPETEN_CIUDADA_PNAL       3855 non-null   int64  \n",
            " 81  MOD_COMPETEN_CIUDADA_PNBC       3855 non-null   int64  \n",
            " 82  MOD_INGLES_PUNT                 3855 non-null   int64  \n",
            " 83  MOD_INGLES_DESEM                3855 non-null   object \n",
            " 84  MOD_INGLES_PNAL                 3855 non-null   int64  \n",
            " 85  MOD_INGLES_PNBC                 3855 non-null   int64  \n",
            " 86  MOD_COMUNI_ESCRITA_PUNT         3855 non-null   int64  \n",
            " 87  MOD_COMUNI_ESCRITA_DESEM        3801 non-null   float64\n",
            " 88  MOD_COMUNI_ESCRITA_PNAL         3855 non-null   int64  \n",
            " 89  MOD_COMUNI_ESCRITA_PNBC         3855 non-null   int64  \n",
            " 90  PUNT_GLOBAL                     3855 non-null   int64  \n",
            " 91  PERCENTIL_NBC                   3855 non-null   int64  \n",
            " 92  PERCENTIL_GLOBAL                3855 non-null   int64  \n",
            " 93  ESTU_INSE_INDIVIDUAL            3724 non-null   float64\n",
            " 94  ESTU_NSE_INDIVIDUAL             3724 non-null   float64\n",
            " 95  ESTU_NSE_IES                    3855 non-null   int64  \n",
            " 96  ESTU_ESTADOINVESTIGACION        3855 non-null   object \n",
            "dtypes: float64(5), int64(34), object(58)\n",
            "memory usage: 2.9+ MB\n"
          ]
        }
      ]
    },
    {
      "cell_type": "code",
      "source": [
        "df.drop(['ESTU_CONSECUTIVO', 'RESULT_CODIGOPRUEBA', 'RESULT_NOMBREPRUEBA', 'RESULT_PUNTAJE', 'RESULT_DESEMPENO', 'ESTU_AGREGADO', 'ESTU_FECHANACIMIENTO', 'PERIODO', 'ESTU_ESTUDIANTE', 'ESTU_PAIS_RESIDE','ESTU_COD_RESIDE_DEPTO', 'ESTU_MCPIO_RESIDE', 'ESTU_COD_RESIDE_MCPIO', 'ESTU_AREARESIDE', 'ESTU_COLE_TERMINO', 'ESTU_CODDANE_COLE_TERMINO', 'ESTU_COD_COLE_MCPIO_TERMINO', 'ESTU_TITULOOBTENIDOBACHILLER',  'ESTU_COMOCAPACITOEXAMENSB11', 'ESTU_TIPODOCUMENTOSB11','ESTU_OTROCOLE_TERMINO', 'FAMI_TIENELAVADORA', 'FAMI_TIENEHORNOMICROOGAS', 'FAMI_TIENESERVICIOTV', 'FAMI_TIENEAUTOMOVIL', 'FAMI_TIENEMOTOCICLETA', 'FAMI_TIENECONSOLAVIDEOJUEGOS', 'FAMI_CUANTOSCOMPARTEBAÑO', 'ESTU_PRESENTACIONCASA', 'ESTU_PAISDOCUMENTOS11', 'ESTU_HORASSEMANATRABAJA', 'INST_COD_INSTITUCION', 'INST_NOMBRE_INSTITUCION','ESTU_SNIES_PRGMACADEMICO', 'GRUPOREFERENCIA', 'ESTU_PRGM_CODMUNICIPIO', 'ESTU_PRGM_MUNICIPIO', 'ESTU_PRGM_DEPARTAMENTO', 'ESTU_NIVEL_PRGM_ACADEMICO', 'ESTU_METODO_PRGM', 'ESTU_NUCLEO_PREGRADO', 'ESTU_INST_CODMUNICIPIO', 'ESTU_INST_MUNICIPIO', 'ESTU_INST_DEPARTAMENTO', 'INST_CARACTER_ACADEMICO', 'INST_ORIGEN', 'ESTU_PRIVADO_LIBERTAD', 'ESTU_COD_MCPIO_PRESENTACION', 'ESTU_MCPIO_PRESENTACION', 'ESTU_DEPTO_PRESENTACION', 'ESTU_COD_DEPTO_PRESENTACION','MOD_RAZONA_CUANTITAT_DESEM', 'MOD_RAZONA_CUANTITATIVO_PNAL', 'MOD_RAZONA_CUANTITATIVO_PNBC', 'MOD_LECTURA_CRITICA_DESEM', 'MOD_LECTURA_CRITICA_PNAL', 'MOD_LECTURA_CRITICA_PNBC', 'MOD_COMPETEN_CIUDADA_DESEM', 'MOD_COMPETEN_CIUDADA_PNAL','MOD_COMPETEN_CIUDADA_PNBC','MOD_INGLES_DESEM', 'MOD_INGLES_PNAL', 'MOD_INGLES_PNBC', 'MOD_COMUNI_ESCRITA_DESEM', 'MOD_COMUNI_ESCRITA_PNAL', 'MOD_COMUNI_ESCRITA_PNBC',  'PERCENTIL_NBC', 'PERCENTIL_GLOBAL', 'ESTU_INSE_INDIVIDUAL', 'ESTU_NSE_INDIVIDUAL', 'ESTU_NSE_IES', 'ESTU_ESTADOINVESTIGACION'], axis=1, inplace=True)"
      ],
      "metadata": {
        "id": "HDMO0hvH29_Q"
      },
      "execution_count": 5,
      "outputs": []
    },
    {
      "cell_type": "code",
      "source": [
        "df.info()"
      ],
      "metadata": {
        "colab": {
          "base_uri": "https://localhost:8080/"
        },
        "id": "ExSQ0D0S3Inv",
        "outputId": "f49978cd-40ed-4f03-9ae6-581633a66f74"
      },
      "execution_count": 6,
      "outputs": [
        {
          "output_type": "stream",
          "name": "stdout",
          "text": [
            "<class 'pandas.core.frame.DataFrame'>\n",
            "RangeIndex: 3855 entries, 0 to 3854\n",
            "Data columns (total 25 columns):\n",
            " #   Column                          Non-Null Count  Dtype \n",
            "---  ------                          --------------  ----- \n",
            " 0   ESTU_TIPODOCUMENTO              3855 non-null   object\n",
            " 1   ESTU_NACIONALIDAD               3855 non-null   object\n",
            " 2   ESTU_GENERO                     3855 non-null   object\n",
            " 3   ESTU_EXTERIOR                   3855 non-null   object\n",
            " 4   ESTU_DEPTO_RESIDE               3855 non-null   object\n",
            " 5   ESTU_VALORMATRICULAUNIVERSIDAD  3850 non-null   object\n",
            " 6   ESTU_PAGOMATRICULABECA          3850 non-null   object\n",
            " 7   ESTU_PAGOMATRICULACREDITO       3850 non-null   object\n",
            " 8   ESTU_PAGOMATRICULAPADRES        3850 non-null   object\n",
            " 9   ESTU_PAGOMATRICULAPROPIO        3850 non-null   object\n",
            " 10  ESTU_SEMESTRECURSA              3850 non-null   object\n",
            " 11  FAMI_EDUCACIONPADRE             3760 non-null   object\n",
            " 12  FAMI_EDUCACIONMADRE             3755 non-null   object\n",
            " 13  FAMI_TRABAJOLABORPADRE          3451 non-null   object\n",
            " 14  FAMI_TRABAJOLABORMADRE          3611 non-null   object\n",
            " 15  FAMI_ESTRATOVIVIENDA            3721 non-null   object\n",
            " 16  FAMI_TIENEINTERNET              3723 non-null   object\n",
            " 17  FAMI_TIENECOMPUTADOR            3483 non-null   object\n",
            " 18  ESTU_PRGM_ACADEMICO             3855 non-null   object\n",
            " 19  MOD_RAZONA_CUANTITAT_PUNT       3855 non-null   int64 \n",
            " 20  MOD_LECTURA_CRITICA_PUNT        3855 non-null   int64 \n",
            " 21  MOD_COMPETEN_CIUDADA_PUNT       3855 non-null   int64 \n",
            " 22  MOD_INGLES_PUNT                 3855 non-null   int64 \n",
            " 23  MOD_COMUNI_ESCRITA_PUNT         3855 non-null   int64 \n",
            " 24  PUNT_GLOBAL                     3855 non-null   int64 \n",
            "dtypes: int64(6), object(19)\n",
            "memory usage: 753.1+ KB\n"
          ]
        }
      ]
    },
    {
      "cell_type": "code",
      "source": [
        "print(f'cantidad de datos del dataset original contando todos los posibles duplicados: {df.shape}')\n",
        "df.drop_duplicates(inplace = True)\n",
        "print(f'cantidad de datos del dataset original cuando ya se reviso si habia datos suplicados:  {df.shape}')"
      ],
      "metadata": {
        "colab": {
          "base_uri": "https://localhost:8080/"
        },
        "id": "yCWMMJIO3KjP",
        "outputId": "315a9451-2400-4568-f99e-2cf3a0a5a12f"
      },
      "execution_count": 7,
      "outputs": [
        {
          "output_type": "stream",
          "name": "stdout",
          "text": [
            "cantidad de datos del dataset original contando todos los posibles duplicados: (3855, 25)\n",
            "cantidad de datos del dataset original cuando ya se reviso si habia datos suplicados:  (3855, 25)\n"
          ]
        }
      ]
    },
    {
      "cell_type": "code",
      "source": [
        "df.isnull().sum()"
      ],
      "metadata": {
        "colab": {
          "base_uri": "https://localhost:8080/"
        },
        "id": "ocoG69R63NxD",
        "outputId": "d68d4315-2efe-4e69-c8ea-dc51108c0a07"
      },
      "execution_count": 8,
      "outputs": [
        {
          "output_type": "execute_result",
          "data": {
            "text/plain": [
              "ESTU_TIPODOCUMENTO                  0\n",
              "ESTU_NACIONALIDAD                   0\n",
              "ESTU_GENERO                         0\n",
              "ESTU_EXTERIOR                       0\n",
              "ESTU_DEPTO_RESIDE                   0\n",
              "ESTU_VALORMATRICULAUNIVERSIDAD      5\n",
              "ESTU_PAGOMATRICULABECA              5\n",
              "ESTU_PAGOMATRICULACREDITO           5\n",
              "ESTU_PAGOMATRICULAPADRES            5\n",
              "ESTU_PAGOMATRICULAPROPIO            5\n",
              "ESTU_SEMESTRECURSA                  5\n",
              "FAMI_EDUCACIONPADRE                95\n",
              "FAMI_EDUCACIONMADRE               100\n",
              "FAMI_TRABAJOLABORPADRE            404\n",
              "FAMI_TRABAJOLABORMADRE            244\n",
              "FAMI_ESTRATOVIVIENDA              134\n",
              "FAMI_TIENEINTERNET                132\n",
              "FAMI_TIENECOMPUTADOR              372\n",
              "ESTU_PRGM_ACADEMICO                 0\n",
              "MOD_RAZONA_CUANTITAT_PUNT           0\n",
              "MOD_LECTURA_CRITICA_PUNT            0\n",
              "MOD_COMPETEN_CIUDADA_PUNT           0\n",
              "MOD_INGLES_PUNT                     0\n",
              "MOD_COMUNI_ESCRITA_PUNT             0\n",
              "PUNT_GLOBAL                         0\n",
              "dtype: int64"
            ]
          },
          "metadata": {},
          "execution_count": 8
        }
      ]
    },
    {
      "cell_type": "code",
      "source": [
        "df.dropna(subset=['ESTU_VALORMATRICULAUNIVERSIDAD','ESTU_PAGOMATRICULABECA','ESTU_PAGOMATRICULACREDITO','ESTU_PAGOMATRICULAPADRES','ESTU_PAGOMATRICULAPROPIO','ESTU_SEMESTRECURSA','FAMI_EDUCACIONMADRE','FAMI_TRABAJOLABORPADRE','FAMI_TRABAJOLABORMADRE', 'FAMI_ESTRATOVIVIENDA','FAMI_TIENEINTERNET','FAMI_TIENECOMPUTADOR'], inplace=True)"
      ],
      "metadata": {
        "id": "J_AkEohe3Pw4"
      },
      "execution_count": 9,
      "outputs": []
    },
    {
      "cell_type": "code",
      "source": [
        "df.isnull().sum()"
      ],
      "metadata": {
        "colab": {
          "base_uri": "https://localhost:8080/"
        },
        "id": "i80BoMbd3Rn7",
        "outputId": "92a47ea9-710b-4ffc-a68c-31aa227284e6"
      },
      "execution_count": 10,
      "outputs": [
        {
          "output_type": "execute_result",
          "data": {
            "text/plain": [
              "ESTU_TIPODOCUMENTO                0\n",
              "ESTU_NACIONALIDAD                 0\n",
              "ESTU_GENERO                       0\n",
              "ESTU_EXTERIOR                     0\n",
              "ESTU_DEPTO_RESIDE                 0\n",
              "ESTU_VALORMATRICULAUNIVERSIDAD    0\n",
              "ESTU_PAGOMATRICULABECA            0\n",
              "ESTU_PAGOMATRICULACREDITO         0\n",
              "ESTU_PAGOMATRICULAPADRES          0\n",
              "ESTU_PAGOMATRICULAPROPIO          0\n",
              "ESTU_SEMESTRECURSA                0\n",
              "FAMI_EDUCACIONPADRE               0\n",
              "FAMI_EDUCACIONMADRE               0\n",
              "FAMI_TRABAJOLABORPADRE            0\n",
              "FAMI_TRABAJOLABORMADRE            0\n",
              "FAMI_ESTRATOVIVIENDA              0\n",
              "FAMI_TIENEINTERNET                0\n",
              "FAMI_TIENECOMPUTADOR              0\n",
              "ESTU_PRGM_ACADEMICO               0\n",
              "MOD_RAZONA_CUANTITAT_PUNT         0\n",
              "MOD_LECTURA_CRITICA_PUNT          0\n",
              "MOD_COMPETEN_CIUDADA_PUNT         0\n",
              "MOD_INGLES_PUNT                   0\n",
              "MOD_COMUNI_ESCRITA_PUNT           0\n",
              "PUNT_GLOBAL                       0\n",
              "dtype: int64"
            ]
          },
          "metadata": {},
          "execution_count": 10
        }
      ]
    },
    {
      "cell_type": "code",
      "source": [
        "df.info()"
      ],
      "metadata": {
        "colab": {
          "base_uri": "https://localhost:8080/"
        },
        "id": "Ju8NFQMn3TnC",
        "outputId": "0d5cd0e7-7ca7-4bac-e0fa-51cb246b7cbc"
      },
      "execution_count": 11,
      "outputs": [
        {
          "output_type": "stream",
          "name": "stdout",
          "text": [
            "<class 'pandas.core.frame.DataFrame'>\n",
            "Int64Index: 3129 entries, 1 to 3850\n",
            "Data columns (total 25 columns):\n",
            " #   Column                          Non-Null Count  Dtype \n",
            "---  ------                          --------------  ----- \n",
            " 0   ESTU_TIPODOCUMENTO              3129 non-null   object\n",
            " 1   ESTU_NACIONALIDAD               3129 non-null   object\n",
            " 2   ESTU_GENERO                     3129 non-null   object\n",
            " 3   ESTU_EXTERIOR                   3129 non-null   object\n",
            " 4   ESTU_DEPTO_RESIDE               3129 non-null   object\n",
            " 5   ESTU_VALORMATRICULAUNIVERSIDAD  3129 non-null   object\n",
            " 6   ESTU_PAGOMATRICULABECA          3129 non-null   object\n",
            " 7   ESTU_PAGOMATRICULACREDITO       3129 non-null   object\n",
            " 8   ESTU_PAGOMATRICULAPADRES        3129 non-null   object\n",
            " 9   ESTU_PAGOMATRICULAPROPIO        3129 non-null   object\n",
            " 10  ESTU_SEMESTRECURSA              3129 non-null   object\n",
            " 11  FAMI_EDUCACIONPADRE             3129 non-null   object\n",
            " 12  FAMI_EDUCACIONMADRE             3129 non-null   object\n",
            " 13  FAMI_TRABAJOLABORPADRE          3129 non-null   object\n",
            " 14  FAMI_TRABAJOLABORMADRE          3129 non-null   object\n",
            " 15  FAMI_ESTRATOVIVIENDA            3129 non-null   object\n",
            " 16  FAMI_TIENEINTERNET              3129 non-null   object\n",
            " 17  FAMI_TIENECOMPUTADOR            3129 non-null   object\n",
            " 18  ESTU_PRGM_ACADEMICO             3129 non-null   object\n",
            " 19  MOD_RAZONA_CUANTITAT_PUNT       3129 non-null   int64 \n",
            " 20  MOD_LECTURA_CRITICA_PUNT        3129 non-null   int64 \n",
            " 21  MOD_COMPETEN_CIUDADA_PUNT       3129 non-null   int64 \n",
            " 22  MOD_INGLES_PUNT                 3129 non-null   int64 \n",
            " 23  MOD_COMUNI_ESCRITA_PUNT         3129 non-null   int64 \n",
            " 24  PUNT_GLOBAL                     3129 non-null   int64 \n",
            "dtypes: int64(6), object(19)\n",
            "memory usage: 635.6+ KB\n"
          ]
        }
      ]
    },
    {
      "cell_type": "code",
      "source": [
        "df.fillna(method='ffill')"
      ],
      "metadata": {
        "colab": {
          "base_uri": "https://localhost:8080/",
          "height": 609
        },
        "id": "IxS8PKyV3Wr5",
        "outputId": "0e0aca3b-5c55-44b8-96c6-9c5aaa8a7bbf"
      },
      "execution_count": 12,
      "outputs": [
        {
          "output_type": "execute_result",
          "data": {
            "text/plain": [
              "     ESTU_TIPODOCUMENTO ESTU_NACIONALIDAD ESTU_GENERO ESTU_EXTERIOR  \\\n",
              "1                    CC          COLOMBIA           M            NO   \n",
              "3                    CC          COLOMBIA           F            NO   \n",
              "4                    CC          COLOMBIA           M            NO   \n",
              "5                    CC          COLOMBIA           F            NO   \n",
              "6                    CC          COLOMBIA           M            NO   \n",
              "...                 ...               ...         ...           ...   \n",
              "3846                 CC          COLOMBIA           M            NO   \n",
              "3847                 CC          COLOMBIA           M            NO   \n",
              "3848                 CC          COLOMBIA           M            NO   \n",
              "3849                 CC          COLOMBIA           M            NO   \n",
              "3850                 CC          COLOMBIA           M            NO   \n",
              "\n",
              "     ESTU_DEPTO_RESIDE            ESTU_VALORMATRICULAUNIVERSIDAD  \\\n",
              "1               BOGOTÁ                         Más de 7 millones   \n",
              "3               BOGOTÁ    Entre 1 millón y menos de 2.5 millones   \n",
              "4               BOGOTÁ  Entre 4 millones y menos de 5.5 millones   \n",
              "5               BOGOTÁ  Entre 2.5 millones y menos de 4 millones   \n",
              "6                VALLE    Entre 1 millón y menos de 2.5 millones   \n",
              "...                ...                                       ...   \n",
              "3846            BOGOTÁ                          Menos de 500 mil   \n",
              "3847            CALDAS  Entre 2.5 millones y menos de 4 millones   \n",
              "3848            BOGOTÁ  Entre 2.5 millones y menos de 4 millones   \n",
              "3849            BOGOTÁ  Entre 5.5 millones y menos de 7 millones   \n",
              "3850             VALLE                         Más de 7 millones   \n",
              "\n",
              "     ESTU_PAGOMATRICULABECA ESTU_PAGOMATRICULACREDITO  \\\n",
              "1                        No                        No   \n",
              "3                        No                        Si   \n",
              "4                        No                        No   \n",
              "5                        No                        No   \n",
              "6                        No                        Si   \n",
              "...                     ...                       ...   \n",
              "3846                     No                        No   \n",
              "3847                     No                        Si   \n",
              "3848                     No                        Si   \n",
              "3849                     No                        Si   \n",
              "3850                     No                        No   \n",
              "\n",
              "     ESTU_PAGOMATRICULAPADRES ESTU_PAGOMATRICULAPROPIO  ...  \\\n",
              "1                          Si                       No  ...   \n",
              "3                          No                       No  ...   \n",
              "4                          No                       Si  ...   \n",
              "5                          No                       Si  ...   \n",
              "6                          Si                       Si  ...   \n",
              "...                       ...                      ...  ...   \n",
              "3846                       Si                       Si  ...   \n",
              "3847                       No                       No  ...   \n",
              "3848                       No                       Si  ...   \n",
              "3849                       Si                       Si  ...   \n",
              "3850                       Si                       No  ...   \n",
              "\n",
              "     FAMI_ESTRATOVIVIENDA FAMI_TIENEINTERNET FAMI_TIENECOMPUTADOR  \\\n",
              "1               Estrato 4                 Si                   Si   \n",
              "3               Estrato 3                 Si                   Si   \n",
              "4               Estrato 3                 Si                   Si   \n",
              "5               Estrato 2                 Si                   Si   \n",
              "6               Estrato 3                 Si                   No   \n",
              "...                   ...                ...                  ...   \n",
              "3846            Estrato 3                 Si                   Si   \n",
              "3847            Estrato 3                 Si                   Si   \n",
              "3848            Estrato 3                 Si                   Si   \n",
              "3849            Estrato 3                 Si                   Si   \n",
              "3850            Estrato 5                 Si                   Si   \n",
              "\n",
              "           ESTU_PRGM_ACADEMICO MOD_RAZONA_CUANTITAT_PUNT  \\\n",
              "1                     ECONOMIA                       201   \n",
              "3                     ECONOMÍA                       146   \n",
              "4                     ECONOMIA                       158   \n",
              "5                     ECONOMIA                       141   \n",
              "6            COMERCIO EXTERIOR                       162   \n",
              "...                        ...                       ...   \n",
              "3846                  ECONOMIA                       220   \n",
              "3847  NEGOCIOS INTERNACIONALES                       112   \n",
              "3848                  ECONOMIA                       138   \n",
              "3849  NEGOCIOS INTERNACIONALES                       151   \n",
              "3850                  ECONOMIA                       198   \n",
              "\n",
              "     MOD_LECTURA_CRITICA_PUNT MOD_COMPETEN_CIUDADA_PUNT MOD_INGLES_PUNT  \\\n",
              "1                         192                       206             210   \n",
              "3                         186                       173             187   \n",
              "4                         175                       165             163   \n",
              "5                         148                       163             136   \n",
              "6                         153                       154             182   \n",
              "...                       ...                       ...             ...   \n",
              "3846                      201                       207             190   \n",
              "3847                      145                       175             161   \n",
              "3848                      147                       152             196   \n",
              "3849                      175                       167             162   \n",
              "3850                      193                       209             202   \n",
              "\n",
              "     MOD_COMUNI_ESCRITA_PUNT  PUNT_GLOBAL  \n",
              "1                        300          222  \n",
              "3                        101          159  \n",
              "4                        117          156  \n",
              "5                        146          147  \n",
              "6                         97          150  \n",
              "...                      ...          ...  \n",
              "3846                     186          201  \n",
              "3847                     128          144  \n",
              "3848                      87          144  \n",
              "3849                     151          161  \n",
              "3850                     180          196  \n",
              "\n",
              "[3129 rows x 25 columns]"
            ],
            "text/html": [
              "\n",
              "  <div id=\"df-adbab207-dfda-413d-883f-6da1cc3c1633\">\n",
              "    <div class=\"colab-df-container\">\n",
              "      <div>\n",
              "<style scoped>\n",
              "    .dataframe tbody tr th:only-of-type {\n",
              "        vertical-align: middle;\n",
              "    }\n",
              "\n",
              "    .dataframe tbody tr th {\n",
              "        vertical-align: top;\n",
              "    }\n",
              "\n",
              "    .dataframe thead th {\n",
              "        text-align: right;\n",
              "    }\n",
              "</style>\n",
              "<table border=\"1\" class=\"dataframe\">\n",
              "  <thead>\n",
              "    <tr style=\"text-align: right;\">\n",
              "      <th></th>\n",
              "      <th>ESTU_TIPODOCUMENTO</th>\n",
              "      <th>ESTU_NACIONALIDAD</th>\n",
              "      <th>ESTU_GENERO</th>\n",
              "      <th>ESTU_EXTERIOR</th>\n",
              "      <th>ESTU_DEPTO_RESIDE</th>\n",
              "      <th>ESTU_VALORMATRICULAUNIVERSIDAD</th>\n",
              "      <th>ESTU_PAGOMATRICULABECA</th>\n",
              "      <th>ESTU_PAGOMATRICULACREDITO</th>\n",
              "      <th>ESTU_PAGOMATRICULAPADRES</th>\n",
              "      <th>ESTU_PAGOMATRICULAPROPIO</th>\n",
              "      <th>...</th>\n",
              "      <th>FAMI_ESTRATOVIVIENDA</th>\n",
              "      <th>FAMI_TIENEINTERNET</th>\n",
              "      <th>FAMI_TIENECOMPUTADOR</th>\n",
              "      <th>ESTU_PRGM_ACADEMICO</th>\n",
              "      <th>MOD_RAZONA_CUANTITAT_PUNT</th>\n",
              "      <th>MOD_LECTURA_CRITICA_PUNT</th>\n",
              "      <th>MOD_COMPETEN_CIUDADA_PUNT</th>\n",
              "      <th>MOD_INGLES_PUNT</th>\n",
              "      <th>MOD_COMUNI_ESCRITA_PUNT</th>\n",
              "      <th>PUNT_GLOBAL</th>\n",
              "    </tr>\n",
              "  </thead>\n",
              "  <tbody>\n",
              "    <tr>\n",
              "      <th>1</th>\n",
              "      <td>CC</td>\n",
              "      <td>COLOMBIA</td>\n",
              "      <td>M</td>\n",
              "      <td>NO</td>\n",
              "      <td>BOGOTÁ</td>\n",
              "      <td>Más de 7 millones</td>\n",
              "      <td>No</td>\n",
              "      <td>No</td>\n",
              "      <td>Si</td>\n",
              "      <td>No</td>\n",
              "      <td>...</td>\n",
              "      <td>Estrato 4</td>\n",
              "      <td>Si</td>\n",
              "      <td>Si</td>\n",
              "      <td>ECONOMIA</td>\n",
              "      <td>201</td>\n",
              "      <td>192</td>\n",
              "      <td>206</td>\n",
              "      <td>210</td>\n",
              "      <td>300</td>\n",
              "      <td>222</td>\n",
              "    </tr>\n",
              "    <tr>\n",
              "      <th>3</th>\n",
              "      <td>CC</td>\n",
              "      <td>COLOMBIA</td>\n",
              "      <td>F</td>\n",
              "      <td>NO</td>\n",
              "      <td>BOGOTÁ</td>\n",
              "      <td>Entre 1 millón y menos de 2.5 millones</td>\n",
              "      <td>No</td>\n",
              "      <td>Si</td>\n",
              "      <td>No</td>\n",
              "      <td>No</td>\n",
              "      <td>...</td>\n",
              "      <td>Estrato 3</td>\n",
              "      <td>Si</td>\n",
              "      <td>Si</td>\n",
              "      <td>ECONOMÍA</td>\n",
              "      <td>146</td>\n",
              "      <td>186</td>\n",
              "      <td>173</td>\n",
              "      <td>187</td>\n",
              "      <td>101</td>\n",
              "      <td>159</td>\n",
              "    </tr>\n",
              "    <tr>\n",
              "      <th>4</th>\n",
              "      <td>CC</td>\n",
              "      <td>COLOMBIA</td>\n",
              "      <td>M</td>\n",
              "      <td>NO</td>\n",
              "      <td>BOGOTÁ</td>\n",
              "      <td>Entre 4 millones y menos de 5.5 millones</td>\n",
              "      <td>No</td>\n",
              "      <td>No</td>\n",
              "      <td>No</td>\n",
              "      <td>Si</td>\n",
              "      <td>...</td>\n",
              "      <td>Estrato 3</td>\n",
              "      <td>Si</td>\n",
              "      <td>Si</td>\n",
              "      <td>ECONOMIA</td>\n",
              "      <td>158</td>\n",
              "      <td>175</td>\n",
              "      <td>165</td>\n",
              "      <td>163</td>\n",
              "      <td>117</td>\n",
              "      <td>156</td>\n",
              "    </tr>\n",
              "    <tr>\n",
              "      <th>5</th>\n",
              "      <td>CC</td>\n",
              "      <td>COLOMBIA</td>\n",
              "      <td>F</td>\n",
              "      <td>NO</td>\n",
              "      <td>BOGOTÁ</td>\n",
              "      <td>Entre 2.5 millones y menos de 4 millones</td>\n",
              "      <td>No</td>\n",
              "      <td>No</td>\n",
              "      <td>No</td>\n",
              "      <td>Si</td>\n",
              "      <td>...</td>\n",
              "      <td>Estrato 2</td>\n",
              "      <td>Si</td>\n",
              "      <td>Si</td>\n",
              "      <td>ECONOMIA</td>\n",
              "      <td>141</td>\n",
              "      <td>148</td>\n",
              "      <td>163</td>\n",
              "      <td>136</td>\n",
              "      <td>146</td>\n",
              "      <td>147</td>\n",
              "    </tr>\n",
              "    <tr>\n",
              "      <th>6</th>\n",
              "      <td>CC</td>\n",
              "      <td>COLOMBIA</td>\n",
              "      <td>M</td>\n",
              "      <td>NO</td>\n",
              "      <td>VALLE</td>\n",
              "      <td>Entre 1 millón y menos de 2.5 millones</td>\n",
              "      <td>No</td>\n",
              "      <td>Si</td>\n",
              "      <td>Si</td>\n",
              "      <td>Si</td>\n",
              "      <td>...</td>\n",
              "      <td>Estrato 3</td>\n",
              "      <td>Si</td>\n",
              "      <td>No</td>\n",
              "      <td>COMERCIO EXTERIOR</td>\n",
              "      <td>162</td>\n",
              "      <td>153</td>\n",
              "      <td>154</td>\n",
              "      <td>182</td>\n",
              "      <td>97</td>\n",
              "      <td>150</td>\n",
              "    </tr>\n",
              "    <tr>\n",
              "      <th>...</th>\n",
              "      <td>...</td>\n",
              "      <td>...</td>\n",
              "      <td>...</td>\n",
              "      <td>...</td>\n",
              "      <td>...</td>\n",
              "      <td>...</td>\n",
              "      <td>...</td>\n",
              "      <td>...</td>\n",
              "      <td>...</td>\n",
              "      <td>...</td>\n",
              "      <td>...</td>\n",
              "      <td>...</td>\n",
              "      <td>...</td>\n",
              "      <td>...</td>\n",
              "      <td>...</td>\n",
              "      <td>...</td>\n",
              "      <td>...</td>\n",
              "      <td>...</td>\n",
              "      <td>...</td>\n",
              "      <td>...</td>\n",
              "      <td>...</td>\n",
              "    </tr>\n",
              "    <tr>\n",
              "      <th>3846</th>\n",
              "      <td>CC</td>\n",
              "      <td>COLOMBIA</td>\n",
              "      <td>M</td>\n",
              "      <td>NO</td>\n",
              "      <td>BOGOTÁ</td>\n",
              "      <td>Menos de 500 mil</td>\n",
              "      <td>No</td>\n",
              "      <td>No</td>\n",
              "      <td>Si</td>\n",
              "      <td>Si</td>\n",
              "      <td>...</td>\n",
              "      <td>Estrato 3</td>\n",
              "      <td>Si</td>\n",
              "      <td>Si</td>\n",
              "      <td>ECONOMIA</td>\n",
              "      <td>220</td>\n",
              "      <td>201</td>\n",
              "      <td>207</td>\n",
              "      <td>190</td>\n",
              "      <td>186</td>\n",
              "      <td>201</td>\n",
              "    </tr>\n",
              "    <tr>\n",
              "      <th>3847</th>\n",
              "      <td>CC</td>\n",
              "      <td>COLOMBIA</td>\n",
              "      <td>M</td>\n",
              "      <td>NO</td>\n",
              "      <td>CALDAS</td>\n",
              "      <td>Entre 2.5 millones y menos de 4 millones</td>\n",
              "      <td>No</td>\n",
              "      <td>Si</td>\n",
              "      <td>No</td>\n",
              "      <td>No</td>\n",
              "      <td>...</td>\n",
              "      <td>Estrato 3</td>\n",
              "      <td>Si</td>\n",
              "      <td>Si</td>\n",
              "      <td>NEGOCIOS INTERNACIONALES</td>\n",
              "      <td>112</td>\n",
              "      <td>145</td>\n",
              "      <td>175</td>\n",
              "      <td>161</td>\n",
              "      <td>128</td>\n",
              "      <td>144</td>\n",
              "    </tr>\n",
              "    <tr>\n",
              "      <th>3848</th>\n",
              "      <td>CC</td>\n",
              "      <td>COLOMBIA</td>\n",
              "      <td>M</td>\n",
              "      <td>NO</td>\n",
              "      <td>BOGOTÁ</td>\n",
              "      <td>Entre 2.5 millones y menos de 4 millones</td>\n",
              "      <td>No</td>\n",
              "      <td>Si</td>\n",
              "      <td>No</td>\n",
              "      <td>Si</td>\n",
              "      <td>...</td>\n",
              "      <td>Estrato 3</td>\n",
              "      <td>Si</td>\n",
              "      <td>Si</td>\n",
              "      <td>ECONOMIA</td>\n",
              "      <td>138</td>\n",
              "      <td>147</td>\n",
              "      <td>152</td>\n",
              "      <td>196</td>\n",
              "      <td>87</td>\n",
              "      <td>144</td>\n",
              "    </tr>\n",
              "    <tr>\n",
              "      <th>3849</th>\n",
              "      <td>CC</td>\n",
              "      <td>COLOMBIA</td>\n",
              "      <td>M</td>\n",
              "      <td>NO</td>\n",
              "      <td>BOGOTÁ</td>\n",
              "      <td>Entre 5.5 millones y menos de 7 millones</td>\n",
              "      <td>No</td>\n",
              "      <td>Si</td>\n",
              "      <td>Si</td>\n",
              "      <td>Si</td>\n",
              "      <td>...</td>\n",
              "      <td>Estrato 3</td>\n",
              "      <td>Si</td>\n",
              "      <td>Si</td>\n",
              "      <td>NEGOCIOS INTERNACIONALES</td>\n",
              "      <td>151</td>\n",
              "      <td>175</td>\n",
              "      <td>167</td>\n",
              "      <td>162</td>\n",
              "      <td>151</td>\n",
              "      <td>161</td>\n",
              "    </tr>\n",
              "    <tr>\n",
              "      <th>3850</th>\n",
              "      <td>CC</td>\n",
              "      <td>COLOMBIA</td>\n",
              "      <td>M</td>\n",
              "      <td>NO</td>\n",
              "      <td>VALLE</td>\n",
              "      <td>Más de 7 millones</td>\n",
              "      <td>No</td>\n",
              "      <td>No</td>\n",
              "      <td>Si</td>\n",
              "      <td>No</td>\n",
              "      <td>...</td>\n",
              "      <td>Estrato 5</td>\n",
              "      <td>Si</td>\n",
              "      <td>Si</td>\n",
              "      <td>ECONOMIA</td>\n",
              "      <td>198</td>\n",
              "      <td>193</td>\n",
              "      <td>209</td>\n",
              "      <td>202</td>\n",
              "      <td>180</td>\n",
              "      <td>196</td>\n",
              "    </tr>\n",
              "  </tbody>\n",
              "</table>\n",
              "<p>3129 rows × 25 columns</p>\n",
              "</div>\n",
              "      <button class=\"colab-df-convert\" onclick=\"convertToInteractive('df-adbab207-dfda-413d-883f-6da1cc3c1633')\"\n",
              "              title=\"Convert this dataframe to an interactive table.\"\n",
              "              style=\"display:none;\">\n",
              "        \n",
              "  <svg xmlns=\"http://www.w3.org/2000/svg\" height=\"24px\"viewBox=\"0 0 24 24\"\n",
              "       width=\"24px\">\n",
              "    <path d=\"M0 0h24v24H0V0z\" fill=\"none\"/>\n",
              "    <path d=\"M18.56 5.44l.94 2.06.94-2.06 2.06-.94-2.06-.94-.94-2.06-.94 2.06-2.06.94zm-11 1L8.5 8.5l.94-2.06 2.06-.94-2.06-.94L8.5 2.5l-.94 2.06-2.06.94zm10 10l.94 2.06.94-2.06 2.06-.94-2.06-.94-.94-2.06-.94 2.06-2.06.94z\"/><path d=\"M17.41 7.96l-1.37-1.37c-.4-.4-.92-.59-1.43-.59-.52 0-1.04.2-1.43.59L10.3 9.45l-7.72 7.72c-.78.78-.78 2.05 0 2.83L4 21.41c.39.39.9.59 1.41.59.51 0 1.02-.2 1.41-.59l7.78-7.78 2.81-2.81c.8-.78.8-2.07 0-2.86zM5.41 20L4 18.59l7.72-7.72 1.47 1.35L5.41 20z\"/>\n",
              "  </svg>\n",
              "      </button>\n",
              "      \n",
              "  <style>\n",
              "    .colab-df-container {\n",
              "      display:flex;\n",
              "      flex-wrap:wrap;\n",
              "      gap: 12px;\n",
              "    }\n",
              "\n",
              "    .colab-df-convert {\n",
              "      background-color: #E8F0FE;\n",
              "      border: none;\n",
              "      border-radius: 50%;\n",
              "      cursor: pointer;\n",
              "      display: none;\n",
              "      fill: #1967D2;\n",
              "      height: 32px;\n",
              "      padding: 0 0 0 0;\n",
              "      width: 32px;\n",
              "    }\n",
              "\n",
              "    .colab-df-convert:hover {\n",
              "      background-color: #E2EBFA;\n",
              "      box-shadow: 0px 1px 2px rgba(60, 64, 67, 0.3), 0px 1px 3px 1px rgba(60, 64, 67, 0.15);\n",
              "      fill: #174EA6;\n",
              "    }\n",
              "\n",
              "    [theme=dark] .colab-df-convert {\n",
              "      background-color: #3B4455;\n",
              "      fill: #D2E3FC;\n",
              "    }\n",
              "\n",
              "    [theme=dark] .colab-df-convert:hover {\n",
              "      background-color: #434B5C;\n",
              "      box-shadow: 0px 1px 3px 1px rgba(0, 0, 0, 0.15);\n",
              "      filter: drop-shadow(0px 1px 2px rgba(0, 0, 0, 0.3));\n",
              "      fill: #FFFFFF;\n",
              "    }\n",
              "  </style>\n",
              "\n",
              "      <script>\n",
              "        const buttonEl =\n",
              "          document.querySelector('#df-adbab207-dfda-413d-883f-6da1cc3c1633 button.colab-df-convert');\n",
              "        buttonEl.style.display =\n",
              "          google.colab.kernel.accessAllowed ? 'block' : 'none';\n",
              "\n",
              "        async function convertToInteractive(key) {\n",
              "          const element = document.querySelector('#df-adbab207-dfda-413d-883f-6da1cc3c1633');\n",
              "          const dataTable =\n",
              "            await google.colab.kernel.invokeFunction('convertToInteractive',\n",
              "                                                     [key], {});\n",
              "          if (!dataTable) return;\n",
              "\n",
              "          const docLinkHtml = 'Like what you see? Visit the ' +\n",
              "            '<a target=\"_blank\" href=https://colab.research.google.com/notebooks/data_table.ipynb>data table notebook</a>'\n",
              "            + ' to learn more about interactive tables.';\n",
              "          element.innerHTML = '';\n",
              "          dataTable['output_type'] = 'display_data';\n",
              "          await google.colab.output.renderOutput(dataTable, element);\n",
              "          const docLink = document.createElement('div');\n",
              "          docLink.innerHTML = docLinkHtml;\n",
              "          element.appendChild(docLink);\n",
              "        }\n",
              "      </script>\n",
              "    </div>\n",
              "  </div>\n",
              "  "
            ]
          },
          "metadata": {},
          "execution_count": 12
        }
      ]
    },
    {
      "cell_type": "code",
      "source": [
        "datos=df.drop(['ESTU_TIPODOCUMENTO','ESTU_NACIONALIDAD','ESTU_GENERO','ESTU_EXTERIOR','ESTU_DEPTO_RESIDE','ESTU_VALORMATRICULAUNIVERSIDAD','ESTU_PAGOMATRICULABECA','ESTU_PAGOMATRICULACREDITO','ESTU_PAGOMATRICULAPADRES','ESTU_PAGOMATRICULAPROPIO','ESTU_SEMESTRECURSA','FAMI_EDUCACIONPADRE','FAMI_EDUCACIONMADRE','FAMI_TRABAJOLABORPADRE','FAMI_TRABAJOLABORMADRE','FAMI_ESTRATOVIVIENDA','FAMI_TIENEINTERNET','FAMI_TIENECOMPUTADOR','ESTU_PRGM_ACADEMICO'],axis=1)"
      ],
      "metadata": {
        "id": "tEEwAEji6R2B"
      },
      "execution_count": 18,
      "outputs": []
    },
    {
      "cell_type": "code",
      "source": [
        "datos.info()"
      ],
      "metadata": {
        "colab": {
          "base_uri": "https://localhost:8080/"
        },
        "id": "CmTews_A6VRv",
        "outputId": "9eee0ed1-51ff-40ed-983c-0d805747f624"
      },
      "execution_count": 19,
      "outputs": [
        {
          "output_type": "stream",
          "name": "stdout",
          "text": [
            "<class 'pandas.core.frame.DataFrame'>\n",
            "Int64Index: 3129 entries, 1 to 3850\n",
            "Data columns (total 6 columns):\n",
            " #   Column                     Non-Null Count  Dtype\n",
            "---  ------                     --------------  -----\n",
            " 0   MOD_RAZONA_CUANTITAT_PUNT  3129 non-null   int64\n",
            " 1   MOD_LECTURA_CRITICA_PUNT   3129 non-null   int64\n",
            " 2   MOD_COMPETEN_CIUDADA_PUNT  3129 non-null   int64\n",
            " 3   MOD_INGLES_PUNT            3129 non-null   int64\n",
            " 4   MOD_COMUNI_ESCRITA_PUNT    3129 non-null   int64\n",
            " 5   PUNT_GLOBAL                3129 non-null   int64\n",
            "dtypes: int64(6)\n",
            "memory usage: 171.1 KB\n"
          ]
        }
      ]
    },
    {
      "cell_type": "code",
      "source": [
        "kmeans = KMeans(n_clusters=2, random_state=0).fit(datos)"
      ],
      "metadata": {
        "id": "nAR2hUda3ZdJ"
      },
      "execution_count": 20,
      "outputs": []
    },
    {
      "cell_type": "code",
      "source": [
        "y=kmeans.labels_"
      ],
      "metadata": {
        "id": "Wm0i4YjU3ewq"
      },
      "execution_count": 21,
      "outputs": []
    },
    {
      "cell_type": "code",
      "source": [
        "y"
      ],
      "metadata": {
        "colab": {
          "base_uri": "https://localhost:8080/"
        },
        "id": "UvFR96vv6YXM",
        "outputId": "6c4e87d5-27e0-4544-f1bf-31dcec85ac54"
      },
      "execution_count": 22,
      "outputs": [
        {
          "output_type": "execute_result",
          "data": {
            "text/plain": [
              "array([1, 0, 0, ..., 0, 1, 1], dtype=int32)"
            ]
          },
          "metadata": {},
          "execution_count": 22
        }
      ]
    },
    {
      "cell_type": "code",
      "source": [
        "from sklearn.model_selection import train_test_split"
      ],
      "metadata": {
        "id": "VkWylIlU6Z0H"
      },
      "execution_count": 23,
      "outputs": []
    },
    {
      "cell_type": "code",
      "source": [
        "x_train, x_test, y_train, y_test = train_test_split(datos, y, test_size=4, random_state=4)"
      ],
      "metadata": {
        "id": "fOU0kvmw6cQU"
      },
      "execution_count": 24,
      "outputs": []
    },
    {
      "cell_type": "code",
      "source": [
        "print(x_train.shape)\n",
        "print(x_test.shape)"
      ],
      "metadata": {
        "colab": {
          "base_uri": "https://localhost:8080/"
        },
        "id": "FX6t5LpV6d5y",
        "outputId": "e6c4384d-3317-4480-ec3d-7a3487e1ed1e"
      },
      "execution_count": 25,
      "outputs": [
        {
          "output_type": "stream",
          "name": "stdout",
          "text": [
            "(3125, 6)\n",
            "(4, 6)\n"
          ]
        }
      ]
    },
    {
      "cell_type": "code",
      "source": [
        "x_train"
      ],
      "metadata": {
        "colab": {
          "base_uri": "https://localhost:8080/",
          "height": 424
        },
        "id": "rRSu41yC6fM3",
        "outputId": "f66c34f4-afe5-44eb-ab73-e1e53af4b2e9"
      },
      "execution_count": 26,
      "outputs": [
        {
          "output_type": "execute_result",
          "data": {
            "text/plain": [
              "      MOD_RAZONA_CUANTITAT_PUNT  MOD_LECTURA_CRITICA_PUNT  \\\n",
              "3571                        139                       167   \n",
              "2578                        172                       188   \n",
              "1020                        194                       189   \n",
              "3241                        142                       102   \n",
              "103                         120                       140   \n",
              "...                         ...                       ...   \n",
              "2330                        186                       189   \n",
              "834                         136                       125   \n",
              "3041                        188                       189   \n",
              "198                         181                       193   \n",
              "1367                        125                       118   \n",
              "\n",
              "      MOD_COMPETEN_CIUDADA_PUNT  MOD_INGLES_PUNT  MOD_COMUNI_ESCRITA_PUNT  \\\n",
              "3571                        145              160                      145   \n",
              "2578                        189              209                      179   \n",
              "1020                        210              213                      300   \n",
              "3241                        124              131                      116   \n",
              "103                         173              126                      145   \n",
              "...                         ...              ...                      ...   \n",
              "2330                        161              190                      194   \n",
              "834                         132              144                      129   \n",
              "3041                        205              175                      143   \n",
              "198                         179              209                      134   \n",
              "1367                         88              174                      133   \n",
              "\n",
              "      PUNT_GLOBAL  \n",
              "3571          151  \n",
              "2578          187  \n",
              "1020          221  \n",
              "3241          123  \n",
              "103           141  \n",
              "...           ...  \n",
              "2330          184  \n",
              "834           133  \n",
              "3041          180  \n",
              "198           179  \n",
              "1367          128  \n",
              "\n",
              "[3125 rows x 6 columns]"
            ],
            "text/html": [
              "\n",
              "  <div id=\"df-7b0599f0-32db-46e2-a6ab-9f06964462a6\">\n",
              "    <div class=\"colab-df-container\">\n",
              "      <div>\n",
              "<style scoped>\n",
              "    .dataframe tbody tr th:only-of-type {\n",
              "        vertical-align: middle;\n",
              "    }\n",
              "\n",
              "    .dataframe tbody tr th {\n",
              "        vertical-align: top;\n",
              "    }\n",
              "\n",
              "    .dataframe thead th {\n",
              "        text-align: right;\n",
              "    }\n",
              "</style>\n",
              "<table border=\"1\" class=\"dataframe\">\n",
              "  <thead>\n",
              "    <tr style=\"text-align: right;\">\n",
              "      <th></th>\n",
              "      <th>MOD_RAZONA_CUANTITAT_PUNT</th>\n",
              "      <th>MOD_LECTURA_CRITICA_PUNT</th>\n",
              "      <th>MOD_COMPETEN_CIUDADA_PUNT</th>\n",
              "      <th>MOD_INGLES_PUNT</th>\n",
              "      <th>MOD_COMUNI_ESCRITA_PUNT</th>\n",
              "      <th>PUNT_GLOBAL</th>\n",
              "    </tr>\n",
              "  </thead>\n",
              "  <tbody>\n",
              "    <tr>\n",
              "      <th>3571</th>\n",
              "      <td>139</td>\n",
              "      <td>167</td>\n",
              "      <td>145</td>\n",
              "      <td>160</td>\n",
              "      <td>145</td>\n",
              "      <td>151</td>\n",
              "    </tr>\n",
              "    <tr>\n",
              "      <th>2578</th>\n",
              "      <td>172</td>\n",
              "      <td>188</td>\n",
              "      <td>189</td>\n",
              "      <td>209</td>\n",
              "      <td>179</td>\n",
              "      <td>187</td>\n",
              "    </tr>\n",
              "    <tr>\n",
              "      <th>1020</th>\n",
              "      <td>194</td>\n",
              "      <td>189</td>\n",
              "      <td>210</td>\n",
              "      <td>213</td>\n",
              "      <td>300</td>\n",
              "      <td>221</td>\n",
              "    </tr>\n",
              "    <tr>\n",
              "      <th>3241</th>\n",
              "      <td>142</td>\n",
              "      <td>102</td>\n",
              "      <td>124</td>\n",
              "      <td>131</td>\n",
              "      <td>116</td>\n",
              "      <td>123</td>\n",
              "    </tr>\n",
              "    <tr>\n",
              "      <th>103</th>\n",
              "      <td>120</td>\n",
              "      <td>140</td>\n",
              "      <td>173</td>\n",
              "      <td>126</td>\n",
              "      <td>145</td>\n",
              "      <td>141</td>\n",
              "    </tr>\n",
              "    <tr>\n",
              "      <th>...</th>\n",
              "      <td>...</td>\n",
              "      <td>...</td>\n",
              "      <td>...</td>\n",
              "      <td>...</td>\n",
              "      <td>...</td>\n",
              "      <td>...</td>\n",
              "    </tr>\n",
              "    <tr>\n",
              "      <th>2330</th>\n",
              "      <td>186</td>\n",
              "      <td>189</td>\n",
              "      <td>161</td>\n",
              "      <td>190</td>\n",
              "      <td>194</td>\n",
              "      <td>184</td>\n",
              "    </tr>\n",
              "    <tr>\n",
              "      <th>834</th>\n",
              "      <td>136</td>\n",
              "      <td>125</td>\n",
              "      <td>132</td>\n",
              "      <td>144</td>\n",
              "      <td>129</td>\n",
              "      <td>133</td>\n",
              "    </tr>\n",
              "    <tr>\n",
              "      <th>3041</th>\n",
              "      <td>188</td>\n",
              "      <td>189</td>\n",
              "      <td>205</td>\n",
              "      <td>175</td>\n",
              "      <td>143</td>\n",
              "      <td>180</td>\n",
              "    </tr>\n",
              "    <tr>\n",
              "      <th>198</th>\n",
              "      <td>181</td>\n",
              "      <td>193</td>\n",
              "      <td>179</td>\n",
              "      <td>209</td>\n",
              "      <td>134</td>\n",
              "      <td>179</td>\n",
              "    </tr>\n",
              "    <tr>\n",
              "      <th>1367</th>\n",
              "      <td>125</td>\n",
              "      <td>118</td>\n",
              "      <td>88</td>\n",
              "      <td>174</td>\n",
              "      <td>133</td>\n",
              "      <td>128</td>\n",
              "    </tr>\n",
              "  </tbody>\n",
              "</table>\n",
              "<p>3125 rows × 6 columns</p>\n",
              "</div>\n",
              "      <button class=\"colab-df-convert\" onclick=\"convertToInteractive('df-7b0599f0-32db-46e2-a6ab-9f06964462a6')\"\n",
              "              title=\"Convert this dataframe to an interactive table.\"\n",
              "              style=\"display:none;\">\n",
              "        \n",
              "  <svg xmlns=\"http://www.w3.org/2000/svg\" height=\"24px\"viewBox=\"0 0 24 24\"\n",
              "       width=\"24px\">\n",
              "    <path d=\"M0 0h24v24H0V0z\" fill=\"none\"/>\n",
              "    <path d=\"M18.56 5.44l.94 2.06.94-2.06 2.06-.94-2.06-.94-.94-2.06-.94 2.06-2.06.94zm-11 1L8.5 8.5l.94-2.06 2.06-.94-2.06-.94L8.5 2.5l-.94 2.06-2.06.94zm10 10l.94 2.06.94-2.06 2.06-.94-2.06-.94-.94-2.06-.94 2.06-2.06.94z\"/><path d=\"M17.41 7.96l-1.37-1.37c-.4-.4-.92-.59-1.43-.59-.52 0-1.04.2-1.43.59L10.3 9.45l-7.72 7.72c-.78.78-.78 2.05 0 2.83L4 21.41c.39.39.9.59 1.41.59.51 0 1.02-.2 1.41-.59l7.78-7.78 2.81-2.81c.8-.78.8-2.07 0-2.86zM5.41 20L4 18.59l7.72-7.72 1.47 1.35L5.41 20z\"/>\n",
              "  </svg>\n",
              "      </button>\n",
              "      \n",
              "  <style>\n",
              "    .colab-df-container {\n",
              "      display:flex;\n",
              "      flex-wrap:wrap;\n",
              "      gap: 12px;\n",
              "    }\n",
              "\n",
              "    .colab-df-convert {\n",
              "      background-color: #E8F0FE;\n",
              "      border: none;\n",
              "      border-radius: 50%;\n",
              "      cursor: pointer;\n",
              "      display: none;\n",
              "      fill: #1967D2;\n",
              "      height: 32px;\n",
              "      padding: 0 0 0 0;\n",
              "      width: 32px;\n",
              "    }\n",
              "\n",
              "    .colab-df-convert:hover {\n",
              "      background-color: #E2EBFA;\n",
              "      box-shadow: 0px 1px 2px rgba(60, 64, 67, 0.3), 0px 1px 3px 1px rgba(60, 64, 67, 0.15);\n",
              "      fill: #174EA6;\n",
              "    }\n",
              "\n",
              "    [theme=dark] .colab-df-convert {\n",
              "      background-color: #3B4455;\n",
              "      fill: #D2E3FC;\n",
              "    }\n",
              "\n",
              "    [theme=dark] .colab-df-convert:hover {\n",
              "      background-color: #434B5C;\n",
              "      box-shadow: 0px 1px 3px 1px rgba(0, 0, 0, 0.15);\n",
              "      filter: drop-shadow(0px 1px 2px rgba(0, 0, 0, 0.3));\n",
              "      fill: #FFFFFF;\n",
              "    }\n",
              "  </style>\n",
              "\n",
              "      <script>\n",
              "        const buttonEl =\n",
              "          document.querySelector('#df-7b0599f0-32db-46e2-a6ab-9f06964462a6 button.colab-df-convert');\n",
              "        buttonEl.style.display =\n",
              "          google.colab.kernel.accessAllowed ? 'block' : 'none';\n",
              "\n",
              "        async function convertToInteractive(key) {\n",
              "          const element = document.querySelector('#df-7b0599f0-32db-46e2-a6ab-9f06964462a6');\n",
              "          const dataTable =\n",
              "            await google.colab.kernel.invokeFunction('convertToInteractive',\n",
              "                                                     [key], {});\n",
              "          if (!dataTable) return;\n",
              "\n",
              "          const docLinkHtml = 'Like what you see? Visit the ' +\n",
              "            '<a target=\"_blank\" href=https://colab.research.google.com/notebooks/data_table.ipynb>data table notebook</a>'\n",
              "            + ' to learn more about interactive tables.';\n",
              "          element.innerHTML = '';\n",
              "          dataTable['output_type'] = 'display_data';\n",
              "          await google.colab.output.renderOutput(dataTable, element);\n",
              "          const docLink = document.createElement('div');\n",
              "          docLink.innerHTML = docLinkHtml;\n",
              "          element.appendChild(docLink);\n",
              "        }\n",
              "      </script>\n",
              "    </div>\n",
              "  </div>\n",
              "  "
            ]
          },
          "metadata": {},
          "execution_count": 26
        }
      ]
    },
    {
      "cell_type": "code",
      "source": [
        "scaler=StandardScaler()\n",
        "print(scaler.fit(x_train))\n",
        "x_train=scaler.transform(x_train)"
      ],
      "metadata": {
        "colab": {
          "base_uri": "https://localhost:8080/"
        },
        "id": "B3QZ7dDQ6hBI",
        "outputId": "dc6ca0b8-462a-42c1-fb4d-2d476cb8ec6e"
      },
      "execution_count": 27,
      "outputs": [
        {
          "output_type": "stream",
          "name": "stdout",
          "text": [
            "StandardScaler()\n"
          ]
        }
      ]
    },
    {
      "cell_type": "code",
      "source": [
        "print(scaler.mean_)"
      ],
      "metadata": {
        "colab": {
          "base_uri": "https://localhost:8080/"
        },
        "id": "l0XjsHWS6iyg",
        "outputId": "7b345fce-0077-44f6-eac2-05a2ae2de92e"
      },
      "execution_count": 28,
      "outputs": [
        {
          "output_type": "stream",
          "name": "stdout",
          "text": [
            "[162.71072 160.25984 159.91744 174.53504 150.69984 161.62944]\n"
          ]
        }
      ]
    },
    {
      "cell_type": "code",
      "source": [
        "x_train"
      ],
      "metadata": {
        "colab": {
          "base_uri": "https://localhost:8080/"
        },
        "id": "w_6DqCQ26kmI",
        "outputId": "f7f15936-571d-4790-ead4-49e35ef70b91"
      },
      "execution_count": 29,
      "outputs": [
        {
          "output_type": "execute_result",
          "data": {
            "text/plain": [
              "array([[-0.72992633,  0.20816766, -0.43479718, -0.4320586 , -0.1407599 ,\n",
              "        -0.39726365],\n",
              "       [ 0.28596728,  0.85674586,  0.84766657,  1.0244817 ,  0.69888411,\n",
              "         0.94819682],\n",
              "       [ 0.96322968,  0.88763054,  1.45975154,  1.14338295,  3.68702898,\n",
              "         2.21890949],\n",
              "       ...,\n",
              "       [ 0.77852176,  0.88763054,  1.31401703,  0.01382108, -0.19015072,\n",
              "         0.68657951],\n",
              "       [ 0.56302917,  1.01116925,  0.55619753,  1.0244817 , -0.41240943,\n",
              "         0.64920561],\n",
              "       [-1.1609115 , -1.30518148, -2.09617068, -0.01590423, -0.43710484,\n",
              "        -1.25686339]])"
            ]
          },
          "metadata": {},
          "execution_count": 29
        }
      ]
    },
    {
      "cell_type": "code",
      "source": [
        "clf=svm.SVC(kernel='linear',probability=True)\n",
        "clf.fit(x_train,y_train)"
      ],
      "metadata": {
        "colab": {
          "base_uri": "https://localhost:8080/"
        },
        "id": "UgJzx9eK6mJA",
        "outputId": "62bb85be-bece-4d11-c435-b59217f2fe77"
      },
      "execution_count": 30,
      "outputs": [
        {
          "output_type": "execute_result",
          "data": {
            "text/plain": [
              "SVC(kernel='linear', probability=True)"
            ]
          },
          "metadata": {},
          "execution_count": 30
        }
      ]
    },
    {
      "cell_type": "code",
      "source": [
        "scaler=StandardScaler()\n",
        "print(scaler.fit(x_test))\n",
        "x_test=scaler.transform(x_test)"
      ],
      "metadata": {
        "colab": {
          "base_uri": "https://localhost:8080/"
        },
        "id": "M4f0r5yq6npQ",
        "outputId": "8c79fd68-40cd-4cca-f463-1b45ae8e83af"
      },
      "execution_count": 31,
      "outputs": [
        {
          "output_type": "stream",
          "name": "stdout",
          "text": [
            "StandardScaler()\n"
          ]
        }
      ]
    },
    {
      "cell_type": "code",
      "source": [
        "y_pred=clf.predict(x_test)"
      ],
      "metadata": {
        "id": "mvuldtTl6png"
      },
      "execution_count": 32,
      "outputs": []
    },
    {
      "cell_type": "code",
      "source": [
        "y_pred"
      ],
      "metadata": {
        "colab": {
          "base_uri": "https://localhost:8080/"
        },
        "id": "4VhH0BXo6rXo",
        "outputId": "173606cc-cc26-496a-c4ed-9ca55686e98f"
      },
      "execution_count": 33,
      "outputs": [
        {
          "output_type": "execute_result",
          "data": {
            "text/plain": [
              "array([0, 0, 1, 1], dtype=int32)"
            ]
          },
          "metadata": {},
          "execution_count": 33
        }
      ]
    },
    {
      "cell_type": "code",
      "source": [
        ""
      ],
      "metadata": {
        "id": "pAJfHsC46tR5"
      },
      "execution_count": null,
      "outputs": []
    }
  ]
}