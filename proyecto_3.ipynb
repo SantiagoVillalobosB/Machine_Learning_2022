{
  "cells": [
    {
      "cell_type": "markdown",
      "metadata": {
        "id": "view-in-github",
        "colab_type": "text"
      },
      "source": [
        "<a href=\"https://colab.research.google.com/github/SantiagoVillalobosB/Machine_Learning_2022/blob/PROYECTOS-1-CORTE/proyecto_3.ipynb\" target=\"_parent\"><img src=\"https://colab.research.google.com/assets/colab-badge.svg\" alt=\"Open In Colab\"/></a>"
      ]
    },
    {
      "cell_type": "code",
      "execution_count": null,
      "metadata": {
        "id": "gI7M-283ALbv"
      },
      "outputs": [],
      "source": [
        "import numpy as np\n",
        "import statistics as st"
      ]
    },
    {
      "cell_type": "code",
      "source": [
        "base=open('SaberPro_Genéricas_2020.txt','r')\n",
        "vacia=[]\n",
        "renglones=[]\n",
        "for i in base.read().split('\\n'):\n",
        "  vacia.append(i) \n",
        "for renglon in vacia:\n",
        "  renglones.append(renglon.split('¬'))\n",
        "renglones.pop()\n",
        "tuple(renglones)"
      ],
      "metadata": {
        "id": "KO2gm9KM0Qw3"
      },
      "execution_count": null,
      "outputs": []
    },
    {
      "cell_type": "code",
      "execution_count": null,
      "metadata": {
        "id": "spXJrEhZBtB0"
      },
      "outputs": [],
      "source": [
        "class icfes: \n",
        "  def __init__ (self,base):\n",
        "    self.base=base\n",
        "  \n",
        "  #se crea la funcion para acceder a cada dato de la tupla\n",
        "  def acceder(self,indice):\n",
        "    return self.base[indice]\n",
        "  \n",
        "  #se crea la funcion para acceder a las columnas para poder acceder a cada columna por su nombre\n",
        "  def columnas(self,columna):\n",
        "    return [i[self.base[0].index(columna)] for i in self.base]\n",
        "\n",
        "  #se crea la funcion para acceder a algun dato segun caracteristica numerica unicamente para las variables numericas\n",
        "  def filtrar_datos(self, condicion:str, columna:str):\n",
        "    return list(filter(lambda x: eval(condicion), [int(i) for i in self.columnas(columna)[1:]]))\n",
        "\n",
        "  #se crea la funcion con la estadistica basica: \n",
        "  def calculos(self, columna:str):\n",
        "    self.arreglo=[int(i) for i in self.columnas(columna)[1:]]\n",
        "    self.media=np.mean(self.arreglo)\n",
        "    self.mediana=np.median(self.arreglo)\n",
        "    self.varianza=np.var(self.arreglo)\n",
        "    self.desviacionstd=np.std(self.arreglo)\n",
        "    self.moda=st.mode(self.arreglo)\n",
        "    return(print(f'La media de la variable escogida es: {self.media}\\n La mediana es: {self.mediana}\\n la varianza es: {self.varianza}\\n la moda es : {self.moda}\\n la desviacion es: {self.desviacionstd}'))"
      ]
    },
    {
      "cell_type": "code",
      "execution_count": null,
      "metadata": {
        "id": "2UqiY9WeERos"
      },
      "outputs": [],
      "source": [
        "acceso=icfes(renglones)"
      ]
    },
    {
      "cell_type": "code",
      "source": [
        "acceso.acceder(0) # aca se selecciona la fila a la cual el usuario desea acceder"
      ],
      "metadata": {
        "id": "JOmvZZNZThWF"
      },
      "execution_count": null,
      "outputs": []
    },
    {
      "cell_type": "code",
      "source": [
        "acceso.columnas('PERIODO') # aca se selecciona la columna a la cual quiere acceder, se debe hacer por el nombre exacto de la columna  "
      ],
      "metadata": {
        "id": "Z6hVMwuDOt6H"
      },
      "execution_count": null,
      "outputs": []
    },
    {
      "cell_type": "code",
      "source": [
        "acceso.calculos('PUNT_GLOBAL') #aca se selecciona la variable numerica a la cual desea acceder y obtener la estadistica basica "
      ],
      "metadata": {
        "id": "k-4NraHgwoEG",
        "colab": {
          "base_uri": "https://localhost:8080/"
        },
        "outputId": "59efcdba-88cf-474a-f608-4732c571afab"
      },
      "execution_count": null,
      "outputs": [
        {
          "output_type": "stream",
          "name": "stdout",
          "text": [
            "La media de la variable escogida es: 149.41570969223702 \n",
            " La mediana es: 149.0 \n",
            " la varianza es: 681.1982548968045 \n",
            " la moda es : 148 \n",
            " la desviacion es: 26.099774997053224\n"
          ]
        }
      ]
    }
  ],
  "metadata": {
    "colab": {
      "name": "proyecto 3",
      "provenance": [],
      "authorship_tag": "ABX9TyP9cqbo/DjlrLmskHzfuqNr",
      "include_colab_link": true
    },
    "kernelspec": {
      "display_name": "Python 3",
      "name": "python3"
    },
    "language_info": {
      "name": "python"
    }
  },
  "nbformat": 4,
  "nbformat_minor": 0
}